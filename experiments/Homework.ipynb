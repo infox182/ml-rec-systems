{
 "cells": [
  {
   "cell_type": "markdown",
   "metadata": {},
   "source": [
    "# Домашнее задание\n",
    "\n",
    "Домашнее задание состоит из нескольких блоков.\n",
    "\n",
    "\n",
    "## Эксперименты в ipynb ноутбуках (15 баллов)\n",
    "- Необходимо будет перебрать $N$ моделей $(N \\geq 2)$ матричной факторизации и перебрать у них $K$ гиперпараметров $(K \\geq 2)$ **(6 баллов)**\n",
    "    - Для перебора гиперпараметров можно использовать [`Optuna`](https://github.com/optuna/optuna), [`Hyperopt`](https://github.com/hyperopt/hyperopt)\n",
    "- Воспользоваться методом приближенного поиска соседей для выдачи рекомендаций. **(3 балла)**\n",
    "    - Можно использовать любые удобные: [`Annoy`](https://github.com/spotify/annoy), [`nmslib`](https://github.com/nmslib/nmslib) и.т.д\n",
    "- Добавить 3 \"аватаров\" (искусственных пользователей) и посмотреть рекомендации итоговой модели на них. Объяснить почему добавили именно таких пользователей. **(3 балла)**\n",
    "- Придумать как можно обработать рекомендации для холодных пользователей. **(3 балла)**\n",
    "\n",
    "Примечание: за невоспроизводимый код в ноутбуках (например, нарушен порядок выполнения ячеек, вызываются переменные, которые нигде не были объявлены ранее и.т.п) будут штрафы на усмотрение проверяющего.\n",
    "\n",
    "\n",
    "## Реализация итоговой модели в сервисе (10 баллов)\n",
    "- Пробитие бейзлайна $MAP@10 \\geq 0.074921$ **(6 баллов)**\n",
    "- Код сервиса соответствует критериям читаемости и воспроизводимости **(4 балла)**"
   ]
  },
  {
   "cell_type": "code",
   "execution_count": 3,
   "metadata": {},
   "outputs": [],
   "source": [
    "import os"
   ]
  },
  {
   "cell_type": "code",
   "execution_count": 4,
   "metadata": {},
   "outputs": [],
   "source": [
    "os.environ[\"OPENBLAS_NUM_THREADS\"] = \"1\"\n",
    "os.environ['KMP_DUPLICATE_LIB_OK']='True'\n",
    "os.environ['MKL_NUM_THREADS'] = '1'"
   ]
  },
  {
   "cell_type": "code",
   "execution_count": 5,
   "metadata": {},
   "outputs": [],
   "source": [
    "import warnings\n",
    "warnings.filterwarnings('ignore')"
   ]
  },
  {
   "cell_type": "code",
   "execution_count": 6,
   "metadata": {},
   "outputs": [],
   "source": [
    "import pandas as pd\n",
    "import numpy as np\n",
    "import random\n",
    "import time\n",
    "\n",
    "from rectools.metrics import Precision, Recall, MAP, calc_metrics\n",
    "from rectools.models import (PopularModel, RandomModel, ImplicitALSWrapperModel, \n",
    "                             LightFMWrapperModel)\n",
    "from rectools import Columns\n",
    "from rectools.dataset import Dataset\n",
    "\n",
    "import matplotlib.pyplot as plt\n",
    "import seaborn as sns\n",
    "from pathlib import Path\n",
    "import typing as tp\n",
    "from tqdm import tqdm\n",
    "\n",
    "from lightfm import LightFM\n",
    "\n",
    "from implicit.bpr import BayesianPersonalizedRanking\n",
    "from implicit.als import AlternatingLeastSquares\n",
    "from implicit.lmf import LogisticMatrixFactorization\n",
    "\n",
    "import optuna\n",
    "import hnswlib"
   ]
  },
  {
   "cell_type": "code",
   "execution_count": 8,
   "metadata": {},
   "outputs": [],
   "source": [
    "#set seed\n",
    "RANDOM_STATE = 42\n",
    "np.random.seed(RANDOM_STATE)\n",
    "random.seed(RANDOM_STATE)"
   ]
  },
  {
   "cell_type": "code",
   "execution_count": 9,
   "metadata": {},
   "outputs": [],
   "source": [
    "DATA_PATH = Path(\"/Users/admin_i/Desktop/itmo/RecoServiceEdu/notebooks/data_original\")"
   ]
  },
  {
   "cell_type": "markdown",
   "metadata": {},
   "source": [
    "# Загрузка данных"
   ]
  },
  {
   "cell_type": "code",
   "execution_count": 10,
   "metadata": {},
   "outputs": [
    {
     "name": "stdout",
     "output_type": "stream",
     "text": [
      "CPU times: user 4.07 s, sys: 262 ms, total: 4.33 s\n",
      "Wall time: 4.33 s\n"
     ]
    }
   ],
   "source": [
    "%%time\n",
    "users = pd.read_csv(DATA_PATH / 'users.csv')\n",
    "items = pd.read_csv(DATA_PATH / 'items.csv')\n",
    "interactions = pd.read_csv(DATA_PATH / 'interactions.csv')"
   ]
  },
  {
   "cell_type": "markdown",
   "metadata": {
    "tags": []
   },
   "source": [
    "# Preprocess"
   ]
  },
  {
   "cell_type": "code",
   "execution_count": 11,
   "metadata": {},
   "outputs": [],
   "source": [
    "Columns.Datetime = 'last_watch_dt'"
   ]
  },
  {
   "cell_type": "code",
   "execution_count": 12,
   "metadata": {},
   "outputs": [],
   "source": [
    "interactions.drop(interactions[interactions[Columns.Datetime].str.len() != 10].index, inplace=True)"
   ]
  },
  {
   "cell_type": "code",
   "execution_count": 13,
   "metadata": {},
   "outputs": [],
   "source": [
    "interactions[Columns.Datetime] = pd.to_datetime(interactions[Columns.Datetime], format='%Y-%m-%d')"
   ]
  },
  {
   "cell_type": "code",
   "execution_count": 14,
   "metadata": {},
   "outputs": [],
   "source": [
    "max_date = interactions[Columns.Datetime].max()"
   ]
  },
  {
   "cell_type": "code",
   "execution_count": 15,
   "metadata": {},
   "outputs": [],
   "source": [
    "interactions[Columns.Weight] = np.where(interactions['watched_pct'] > 10, 3, 1)"
   ]
  },
  {
   "cell_type": "code",
   "execution_count": 16,
   "metadata": {},
   "outputs": [
    {
     "name": "stdout",
     "output_type": "stream",
     "text": [
      "train: (4587708, 6)\n",
      "valid: (464107, 6)\n",
      "test: (424436, 6)\n",
      "True\n"
     ]
    }
   ],
   "source": [
    "train = interactions[interactions[Columns.Datetime] < max_date - 2*pd.Timedelta(days=7)].copy()\n",
    "valid = interactions[(max_date - 2*pd.Timedelta(days=7) <= interactions[Columns.Datetime]) & \\\n",
    "                     (interactions[Columns.Datetime] <= max_date - pd.Timedelta(days=7))].copy()\n",
    "test = interactions[interactions[Columns.Datetime] > max_date - pd.Timedelta(days=7)].copy()\n",
    "\n",
    "print(f\"train: {train.shape}\")\n",
    "print(f\"valid: {valid.shape}\")\n",
    "print(f\"test: {test.shape}\")\n",
    "print(f\"{train.shape[0] + valid.shape[0] + test.shape[0] == interactions.shape[0]}\")"
   ]
  },
  {
   "cell_type": "code",
   "execution_count": 17,
   "metadata": {},
   "outputs": [],
   "source": [
    "train.drop(train.query(\"total_dur < 300\").index, inplace=True)"
   ]
  },
  {
   "cell_type": "code",
   "execution_count": 18,
   "metadata": {},
   "outputs": [],
   "source": [
    "# отфильтруем холодных пользователей из валида\n",
    "cold_users = set(valid[Columns.User]) - set(train[Columns.User])\n",
    "valid.drop(valid[valid[Columns.User].isin(cold_users)].index, inplace=True)"
   ]
  },
  {
   "cell_type": "markdown",
   "metadata": {},
   "source": [
    "# Prepare features"
   ]
  },
  {
   "cell_type": "markdown",
   "metadata": {},
   "source": [
    "## User features"
   ]
  },
  {
   "cell_type": "code",
   "execution_count": 19,
   "metadata": {},
   "outputs": [
    {
     "data": {
      "text/plain": [
       "user_id         0\n",
       "age         14095\n",
       "income      14776\n",
       "sex         13831\n",
       "kids_flg        0\n",
       "dtype: int64"
      ]
     },
     "execution_count": 19,
     "metadata": {},
     "output_type": "execute_result"
    }
   ],
   "source": [
    "users.isnull().sum()"
   ]
  },
  {
   "cell_type": "code",
   "execution_count": 20,
   "metadata": {},
   "outputs": [],
   "source": [
    "users.fillna('Unknown', inplace=True)"
   ]
  },
  {
   "cell_type": "code",
   "execution_count": 21,
   "metadata": {},
   "outputs": [
    {
     "data": {
      "text/plain": [
       "user_id     840197\n",
       "age              7\n",
       "income           7\n",
       "sex              3\n",
       "kids_flg         2\n",
       "dtype: int64"
      ]
     },
     "execution_count": 21,
     "metadata": {},
     "output_type": "execute_result"
    }
   ],
   "source": [
    "users.nunique()"
   ]
  },
  {
   "cell_type": "code",
   "execution_count": 22,
   "metadata": {},
   "outputs": [
    {
     "data": {
      "text/html": [
       "<div>\n",
       "<style scoped>\n",
       "    .dataframe tbody tr th:only-of-type {\n",
       "        vertical-align: middle;\n",
       "    }\n",
       "\n",
       "    .dataframe tbody tr th {\n",
       "        vertical-align: top;\n",
       "    }\n",
       "\n",
       "    .dataframe thead th {\n",
       "        text-align: right;\n",
       "    }\n",
       "</style>\n",
       "<table border=\"1\" class=\"dataframe\">\n",
       "  <thead>\n",
       "    <tr style=\"text-align: right;\">\n",
       "      <th></th>\n",
       "      <th>user_id</th>\n",
       "      <th>age</th>\n",
       "      <th>income</th>\n",
       "      <th>sex</th>\n",
       "      <th>kids_flg</th>\n",
       "    </tr>\n",
       "  </thead>\n",
       "  <tbody>\n",
       "    <tr>\n",
       "      <th>0</th>\n",
       "      <td>973171</td>\n",
       "      <td>age_25_34</td>\n",
       "      <td>income_60_90</td>\n",
       "      <td>М</td>\n",
       "      <td>1</td>\n",
       "    </tr>\n",
       "    <tr>\n",
       "      <th>1</th>\n",
       "      <td>962099</td>\n",
       "      <td>age_18_24</td>\n",
       "      <td>income_20_40</td>\n",
       "      <td>М</td>\n",
       "      <td>0</td>\n",
       "    </tr>\n",
       "    <tr>\n",
       "      <th>2</th>\n",
       "      <td>1047345</td>\n",
       "      <td>age_45_54</td>\n",
       "      <td>income_40_60</td>\n",
       "      <td>Ж</td>\n",
       "      <td>0</td>\n",
       "    </tr>\n",
       "    <tr>\n",
       "      <th>3</th>\n",
       "      <td>721985</td>\n",
       "      <td>age_45_54</td>\n",
       "      <td>income_20_40</td>\n",
       "      <td>Ж</td>\n",
       "      <td>0</td>\n",
       "    </tr>\n",
       "    <tr>\n",
       "      <th>4</th>\n",
       "      <td>704055</td>\n",
       "      <td>age_35_44</td>\n",
       "      <td>income_60_90</td>\n",
       "      <td>Ж</td>\n",
       "      <td>0</td>\n",
       "    </tr>\n",
       "    <tr>\n",
       "      <th>...</th>\n",
       "      <td>...</td>\n",
       "      <td>...</td>\n",
       "      <td>...</td>\n",
       "      <td>...</td>\n",
       "      <td>...</td>\n",
       "    </tr>\n",
       "    <tr>\n",
       "      <th>840192</th>\n",
       "      <td>339025</td>\n",
       "      <td>age_65_inf</td>\n",
       "      <td>income_0_20</td>\n",
       "      <td>Ж</td>\n",
       "      <td>0</td>\n",
       "    </tr>\n",
       "    <tr>\n",
       "      <th>840193</th>\n",
       "      <td>983617</td>\n",
       "      <td>age_18_24</td>\n",
       "      <td>income_20_40</td>\n",
       "      <td>Ж</td>\n",
       "      <td>1</td>\n",
       "    </tr>\n",
       "    <tr>\n",
       "      <th>840194</th>\n",
       "      <td>251008</td>\n",
       "      <td>Unknown</td>\n",
       "      <td>Unknown</td>\n",
       "      <td>Unknown</td>\n",
       "      <td>0</td>\n",
       "    </tr>\n",
       "    <tr>\n",
       "      <th>840195</th>\n",
       "      <td>590706</td>\n",
       "      <td>Unknown</td>\n",
       "      <td>Unknown</td>\n",
       "      <td>Ж</td>\n",
       "      <td>0</td>\n",
       "    </tr>\n",
       "    <tr>\n",
       "      <th>840196</th>\n",
       "      <td>166555</td>\n",
       "      <td>age_65_inf</td>\n",
       "      <td>income_20_40</td>\n",
       "      <td>Ж</td>\n",
       "      <td>0</td>\n",
       "    </tr>\n",
       "  </tbody>\n",
       "</table>\n",
       "<p>840197 rows × 5 columns</p>\n",
       "</div>"
      ],
      "text/plain": [
       "        user_id         age        income      sex  kids_flg\n",
       "0        973171   age_25_34  income_60_90        М         1\n",
       "1        962099   age_18_24  income_20_40        М         0\n",
       "2       1047345   age_45_54  income_40_60        Ж         0\n",
       "3        721985   age_45_54  income_20_40        Ж         0\n",
       "4        704055   age_35_44  income_60_90        Ж         0\n",
       "...         ...         ...           ...      ...       ...\n",
       "840192   339025  age_65_inf   income_0_20        Ж         0\n",
       "840193   983617   age_18_24  income_20_40        Ж         1\n",
       "840194   251008     Unknown       Unknown  Unknown         0\n",
       "840195   590706     Unknown       Unknown        Ж         0\n",
       "840196   166555  age_65_inf  income_20_40        Ж         0\n",
       "\n",
       "[840197 rows x 5 columns]"
      ]
     },
     "execution_count": 22,
     "metadata": {},
     "output_type": "execute_result"
    }
   ],
   "source": [
    "users"
   ]
  },
  {
   "cell_type": "code",
   "execution_count": 23,
   "metadata": {},
   "outputs": [],
   "source": [
    "users = users.loc[users[Columns.User].isin(train[Columns.User])].copy()"
   ]
  },
  {
   "cell_type": "code",
   "execution_count": 24,
   "metadata": {},
   "outputs": [
    {
     "data": {
      "text/html": [
       "<div>\n",
       "<style scoped>\n",
       "    .dataframe tbody tr th:only-of-type {\n",
       "        vertical-align: middle;\n",
       "    }\n",
       "\n",
       "    .dataframe tbody tr th {\n",
       "        vertical-align: top;\n",
       "    }\n",
       "\n",
       "    .dataframe thead th {\n",
       "        text-align: right;\n",
       "    }\n",
       "</style>\n",
       "<table border=\"1\" class=\"dataframe\">\n",
       "  <thead>\n",
       "    <tr style=\"text-align: right;\">\n",
       "      <th></th>\n",
       "      <th>user_id</th>\n",
       "      <th>age</th>\n",
       "      <th>income</th>\n",
       "      <th>sex</th>\n",
       "      <th>kids_flg</th>\n",
       "    </tr>\n",
       "  </thead>\n",
       "  <tbody>\n",
       "    <tr>\n",
       "      <th>0</th>\n",
       "      <td>973171</td>\n",
       "      <td>age_25_34</td>\n",
       "      <td>income_60_90</td>\n",
       "      <td>М</td>\n",
       "      <td>1</td>\n",
       "    </tr>\n",
       "    <tr>\n",
       "      <th>1</th>\n",
       "      <td>962099</td>\n",
       "      <td>age_18_24</td>\n",
       "      <td>income_20_40</td>\n",
       "      <td>М</td>\n",
       "      <td>0</td>\n",
       "    </tr>\n",
       "    <tr>\n",
       "      <th>3</th>\n",
       "      <td>721985</td>\n",
       "      <td>age_45_54</td>\n",
       "      <td>income_20_40</td>\n",
       "      <td>Ж</td>\n",
       "      <td>0</td>\n",
       "    </tr>\n",
       "    <tr>\n",
       "      <th>4</th>\n",
       "      <td>704055</td>\n",
       "      <td>age_35_44</td>\n",
       "      <td>income_60_90</td>\n",
       "      <td>Ж</td>\n",
       "      <td>0</td>\n",
       "    </tr>\n",
       "    <tr>\n",
       "      <th>5</th>\n",
       "      <td>1037719</td>\n",
       "      <td>age_45_54</td>\n",
       "      <td>income_60_90</td>\n",
       "      <td>М</td>\n",
       "      <td>0</td>\n",
       "    </tr>\n",
       "    <tr>\n",
       "      <th>...</th>\n",
       "      <td>...</td>\n",
       "      <td>...</td>\n",
       "      <td>...</td>\n",
       "      <td>...</td>\n",
       "      <td>...</td>\n",
       "    </tr>\n",
       "    <tr>\n",
       "      <th>840184</th>\n",
       "      <td>529394</td>\n",
       "      <td>age_25_34</td>\n",
       "      <td>income_40_60</td>\n",
       "      <td>Ж</td>\n",
       "      <td>0</td>\n",
       "    </tr>\n",
       "    <tr>\n",
       "      <th>840186</th>\n",
       "      <td>80113</td>\n",
       "      <td>age_25_34</td>\n",
       "      <td>income_40_60</td>\n",
       "      <td>Ж</td>\n",
       "      <td>0</td>\n",
       "    </tr>\n",
       "    <tr>\n",
       "      <th>840188</th>\n",
       "      <td>312839</td>\n",
       "      <td>age_65_inf</td>\n",
       "      <td>income_60_90</td>\n",
       "      <td>Ж</td>\n",
       "      <td>0</td>\n",
       "    </tr>\n",
       "    <tr>\n",
       "      <th>840189</th>\n",
       "      <td>191349</td>\n",
       "      <td>age_45_54</td>\n",
       "      <td>income_40_60</td>\n",
       "      <td>М</td>\n",
       "      <td>1</td>\n",
       "    </tr>\n",
       "    <tr>\n",
       "      <th>840190</th>\n",
       "      <td>393868</td>\n",
       "      <td>age_25_34</td>\n",
       "      <td>income_20_40</td>\n",
       "      <td>М</td>\n",
       "      <td>0</td>\n",
       "    </tr>\n",
       "  </tbody>\n",
       "</table>\n",
       "<p>553259 rows × 5 columns</p>\n",
       "</div>"
      ],
      "text/plain": [
       "        user_id         age        income sex  kids_flg\n",
       "0        973171   age_25_34  income_60_90   М         1\n",
       "1        962099   age_18_24  income_20_40   М         0\n",
       "3        721985   age_45_54  income_20_40   Ж         0\n",
       "4        704055   age_35_44  income_60_90   Ж         0\n",
       "5       1037719   age_45_54  income_60_90   М         0\n",
       "...         ...         ...           ...  ..       ...\n",
       "840184   529394   age_25_34  income_40_60   Ж         0\n",
       "840186    80113   age_25_34  income_40_60   Ж         0\n",
       "840188   312839  age_65_inf  income_60_90   Ж         0\n",
       "840189   191349   age_45_54  income_40_60   М         1\n",
       "840190   393868   age_25_34  income_20_40   М         0\n",
       "\n",
       "[553259 rows x 5 columns]"
      ]
     },
     "execution_count": 24,
     "metadata": {},
     "output_type": "execute_result"
    }
   ],
   "source": [
    "users"
   ]
  },
  {
   "cell_type": "code",
   "execution_count": 25,
   "metadata": {},
   "outputs": [
    {
     "data": {
      "text/html": [
       "<div>\n",
       "<style scoped>\n",
       "    .dataframe tbody tr th:only-of-type {\n",
       "        vertical-align: middle;\n",
       "    }\n",
       "\n",
       "    .dataframe tbody tr th {\n",
       "        vertical-align: top;\n",
       "    }\n",
       "\n",
       "    .dataframe thead th {\n",
       "        text-align: right;\n",
       "    }\n",
       "</style>\n",
       "<table border=\"1\" class=\"dataframe\">\n",
       "  <thead>\n",
       "    <tr style=\"text-align: right;\">\n",
       "      <th></th>\n",
       "      <th>id</th>\n",
       "      <th>value</th>\n",
       "      <th>feature</th>\n",
       "    </tr>\n",
       "  </thead>\n",
       "  <tbody>\n",
       "    <tr>\n",
       "      <th>0</th>\n",
       "      <td>973171</td>\n",
       "      <td>М</td>\n",
       "      <td>sex</td>\n",
       "    </tr>\n",
       "    <tr>\n",
       "      <th>1</th>\n",
       "      <td>962099</td>\n",
       "      <td>М</td>\n",
       "      <td>sex</td>\n",
       "    </tr>\n",
       "    <tr>\n",
       "      <th>3</th>\n",
       "      <td>721985</td>\n",
       "      <td>Ж</td>\n",
       "      <td>sex</td>\n",
       "    </tr>\n",
       "    <tr>\n",
       "      <th>4</th>\n",
       "      <td>704055</td>\n",
       "      <td>Ж</td>\n",
       "      <td>sex</td>\n",
       "    </tr>\n",
       "    <tr>\n",
       "      <th>5</th>\n",
       "      <td>1037719</td>\n",
       "      <td>М</td>\n",
       "      <td>sex</td>\n",
       "    </tr>\n",
       "  </tbody>\n",
       "</table>\n",
       "</div>"
      ],
      "text/plain": [
       "        id value feature\n",
       "0   973171     М     sex\n",
       "1   962099     М     sex\n",
       "3   721985     Ж     sex\n",
       "4   704055     Ж     sex\n",
       "5  1037719     М     sex"
      ]
     },
     "execution_count": 25,
     "metadata": {},
     "output_type": "execute_result"
    }
   ],
   "source": [
    "user_features_frames = []\n",
    "for feature in [\"sex\", \"age\", \"income\"]:\n",
    "    feature_frame = users.reindex(columns=[Columns.User, feature])\n",
    "    feature_frame.columns = [\"id\", \"value\"]\n",
    "    feature_frame[\"feature\"] = feature\n",
    "    user_features_frames.append(feature_frame)\n",
    "user_features = pd.concat(user_features_frames)\n",
    "user_features.head()"
   ]
  },
  {
   "cell_type": "code",
   "execution_count": 26,
   "metadata": {},
   "outputs": [
    {
     "data": {
      "text/html": [
       "<div>\n",
       "<style scoped>\n",
       "    .dataframe tbody tr th:only-of-type {\n",
       "        vertical-align: middle;\n",
       "    }\n",
       "\n",
       "    .dataframe tbody tr th {\n",
       "        vertical-align: top;\n",
       "    }\n",
       "\n",
       "    .dataframe thead th {\n",
       "        text-align: right;\n",
       "    }\n",
       "</style>\n",
       "<table border=\"1\" class=\"dataframe\">\n",
       "  <thead>\n",
       "    <tr style=\"text-align: right;\">\n",
       "      <th></th>\n",
       "      <th>id</th>\n",
       "      <th>value</th>\n",
       "      <th>feature</th>\n",
       "    </tr>\n",
       "  </thead>\n",
       "  <tbody>\n",
       "    <tr>\n",
       "      <th>0</th>\n",
       "      <td>973171</td>\n",
       "      <td>М</td>\n",
       "      <td>sex</td>\n",
       "    </tr>\n",
       "    <tr>\n",
       "      <th>0</th>\n",
       "      <td>973171</td>\n",
       "      <td>age_25_34</td>\n",
       "      <td>age</td>\n",
       "    </tr>\n",
       "    <tr>\n",
       "      <th>0</th>\n",
       "      <td>973171</td>\n",
       "      <td>income_60_90</td>\n",
       "      <td>income</td>\n",
       "    </tr>\n",
       "  </tbody>\n",
       "</table>\n",
       "</div>"
      ],
      "text/plain": [
       "       id         value feature\n",
       "0  973171             М     sex\n",
       "0  973171     age_25_34     age\n",
       "0  973171  income_60_90  income"
      ]
     },
     "execution_count": 26,
     "metadata": {},
     "output_type": "execute_result"
    }
   ],
   "source": [
    "user_features.query(f\"id == 973171\")"
   ]
  },
  {
   "cell_type": "markdown",
   "metadata": {},
   "source": [
    "## Item features"
   ]
  },
  {
   "cell_type": "code",
   "execution_count": 27,
   "metadata": {},
   "outputs": [
    {
     "data": {
      "text/plain": [
       "item_id             0\n",
       "content_type        0\n",
       "title               0\n",
       "title_orig       4745\n",
       "release_year       98\n",
       "genres              0\n",
       "countries          37\n",
       "for_kids        15397\n",
       "age_rating          2\n",
       "studios         14898\n",
       "directors        1509\n",
       "actors           2619\n",
       "description         2\n",
       "keywords          423\n",
       "dtype: int64"
      ]
     },
     "execution_count": 27,
     "metadata": {},
     "output_type": "execute_result"
    }
   ],
   "source": [
    "items.isnull().sum()"
   ]
  },
  {
   "cell_type": "code",
   "execution_count": 28,
   "metadata": {},
   "outputs": [],
   "source": [
    "items = items.loc[items[Columns.Item].isin(train[Columns.Item])].copy()"
   ]
  },
  {
   "cell_type": "code",
   "execution_count": 29,
   "metadata": {},
   "outputs": [
    {
     "data": {
      "text/html": [
       "<div>\n",
       "<style scoped>\n",
       "    .dataframe tbody tr th:only-of-type {\n",
       "        vertical-align: middle;\n",
       "    }\n",
       "\n",
       "    .dataframe tbody tr th {\n",
       "        vertical-align: top;\n",
       "    }\n",
       "\n",
       "    .dataframe thead th {\n",
       "        text-align: right;\n",
       "    }\n",
       "</style>\n",
       "<table border=\"1\" class=\"dataframe\">\n",
       "  <thead>\n",
       "    <tr style=\"text-align: right;\">\n",
       "      <th></th>\n",
       "      <th>item_id</th>\n",
       "      <th>content_type</th>\n",
       "      <th>title</th>\n",
       "      <th>title_orig</th>\n",
       "      <th>release_year</th>\n",
       "      <th>genres</th>\n",
       "      <th>countries</th>\n",
       "      <th>for_kids</th>\n",
       "      <th>age_rating</th>\n",
       "      <th>studios</th>\n",
       "      <th>directors</th>\n",
       "      <th>actors</th>\n",
       "      <th>description</th>\n",
       "      <th>keywords</th>\n",
       "    </tr>\n",
       "  </thead>\n",
       "  <tbody>\n",
       "    <tr>\n",
       "      <th>0</th>\n",
       "      <td>10711</td>\n",
       "      <td>film</td>\n",
       "      <td>Поговори с ней</td>\n",
       "      <td>Hable con ella</td>\n",
       "      <td>2002.0</td>\n",
       "      <td>драмы, зарубежные, детективы, мелодрамы</td>\n",
       "      <td>Испания</td>\n",
       "      <td>NaN</td>\n",
       "      <td>16.0</td>\n",
       "      <td>NaN</td>\n",
       "      <td>Педро Альмодовар</td>\n",
       "      <td>Адольфо Фернандес, Ана Фернандес, Дарио Гранди...</td>\n",
       "      <td>Мелодрама легендарного Педро Альмодовара «Пого...</td>\n",
       "      <td>Поговори, ней, 2002, Испания, друзья, любовь, ...</td>\n",
       "    </tr>\n",
       "    <tr>\n",
       "      <th>1</th>\n",
       "      <td>2508</td>\n",
       "      <td>film</td>\n",
       "      <td>Голые перцы</td>\n",
       "      <td>Search Party</td>\n",
       "      <td>2014.0</td>\n",
       "      <td>зарубежные, приключения, комедии</td>\n",
       "      <td>США</td>\n",
       "      <td>NaN</td>\n",
       "      <td>16.0</td>\n",
       "      <td>NaN</td>\n",
       "      <td>Скот Армстронг</td>\n",
       "      <td>Адам Палли, Брайан Хаски, Дж.Б. Смув, Джейсон ...</td>\n",
       "      <td>Уморительная современная комедия на популярную...</td>\n",
       "      <td>Голые, перцы, 2014, США, друзья, свадьбы, прео...</td>\n",
       "    </tr>\n",
       "    <tr>\n",
       "      <th>2</th>\n",
       "      <td>10716</td>\n",
       "      <td>film</td>\n",
       "      <td>Тактическая сила</td>\n",
       "      <td>Tactical Force</td>\n",
       "      <td>2011.0</td>\n",
       "      <td>криминал, зарубежные, триллеры, боевики, комедии</td>\n",
       "      <td>Канада</td>\n",
       "      <td>NaN</td>\n",
       "      <td>16.0</td>\n",
       "      <td>NaN</td>\n",
       "      <td>Адам П. Калтраро</td>\n",
       "      <td>Адриан Холмс, Даррен Шалави, Джерри Вассерман,...</td>\n",
       "      <td>Профессиональный рестлер Стив Остин («Все или ...</td>\n",
       "      <td>Тактическая, сила, 2011, Канада, бандиты, ганг...</td>\n",
       "    </tr>\n",
       "    <tr>\n",
       "      <th>3</th>\n",
       "      <td>7868</td>\n",
       "      <td>film</td>\n",
       "      <td>45 лет</td>\n",
       "      <td>45 Years</td>\n",
       "      <td>2015.0</td>\n",
       "      <td>драмы, зарубежные, мелодрамы</td>\n",
       "      <td>Великобритания</td>\n",
       "      <td>NaN</td>\n",
       "      <td>16.0</td>\n",
       "      <td>NaN</td>\n",
       "      <td>Эндрю Хэй</td>\n",
       "      <td>Александра Риддлстон-Барретт, Джеральдин Джейм...</td>\n",
       "      <td>Шарлотта Рэмплинг, Том Кортни, Джеральдин Джей...</td>\n",
       "      <td>45, лет, 2015, Великобритания, брак, жизнь, лю...</td>\n",
       "    </tr>\n",
       "    <tr>\n",
       "      <th>4</th>\n",
       "      <td>16268</td>\n",
       "      <td>film</td>\n",
       "      <td>Все решает мгновение</td>\n",
       "      <td>NaN</td>\n",
       "      <td>1978.0</td>\n",
       "      <td>драмы, спорт, советские, мелодрамы</td>\n",
       "      <td>СССР</td>\n",
       "      <td>NaN</td>\n",
       "      <td>12.0</td>\n",
       "      <td>Ленфильм</td>\n",
       "      <td>Виктор Садовский</td>\n",
       "      <td>Александр Абдулов, Александр Демьяненко, Алекс...</td>\n",
       "      <td>Расчетливая чаровница из советского кинохита «...</td>\n",
       "      <td>Все, решает, мгновение, 1978, СССР, сильные, ж...</td>\n",
       "    </tr>\n",
       "  </tbody>\n",
       "</table>\n",
       "</div>"
      ],
      "text/plain": [
       "   item_id content_type                 title      title_orig  release_year  \\\n",
       "0    10711         film        Поговори с ней  Hable con ella        2002.0   \n",
       "1     2508         film           Голые перцы    Search Party        2014.0   \n",
       "2    10716         film      Тактическая сила  Tactical Force        2011.0   \n",
       "3     7868         film                45 лет        45 Years        2015.0   \n",
       "4    16268         film  Все решает мгновение             NaN        1978.0   \n",
       "\n",
       "                                             genres       countries  for_kids  \\\n",
       "0           драмы, зарубежные, детективы, мелодрамы         Испания       NaN   \n",
       "1                  зарубежные, приключения, комедии             США       NaN   \n",
       "2  криминал, зарубежные, триллеры, боевики, комедии          Канада       NaN   \n",
       "3                      драмы, зарубежные, мелодрамы  Великобритания       NaN   \n",
       "4                драмы, спорт, советские, мелодрамы            СССР       NaN   \n",
       "\n",
       "   age_rating   studios         directors  \\\n",
       "0        16.0       NaN  Педро Альмодовар   \n",
       "1        16.0       NaN    Скот Армстронг   \n",
       "2        16.0       NaN  Адам П. Калтраро   \n",
       "3        16.0       NaN         Эндрю Хэй   \n",
       "4        12.0  Ленфильм  Виктор Садовский   \n",
       "\n",
       "                                              actors  \\\n",
       "0  Адольфо Фернандес, Ана Фернандес, Дарио Гранди...   \n",
       "1  Адам Палли, Брайан Хаски, Дж.Б. Смув, Джейсон ...   \n",
       "2  Адриан Холмс, Даррен Шалави, Джерри Вассерман,...   \n",
       "3  Александра Риддлстон-Барретт, Джеральдин Джейм...   \n",
       "4  Александр Абдулов, Александр Демьяненко, Алекс...   \n",
       "\n",
       "                                         description  \\\n",
       "0  Мелодрама легендарного Педро Альмодовара «Пого...   \n",
       "1  Уморительная современная комедия на популярную...   \n",
       "2  Профессиональный рестлер Стив Остин («Все или ...   \n",
       "3  Шарлотта Рэмплинг, Том Кортни, Джеральдин Джей...   \n",
       "4  Расчетливая чаровница из советского кинохита «...   \n",
       "\n",
       "                                            keywords  \n",
       "0  Поговори, ней, 2002, Испания, друзья, любовь, ...  \n",
       "1  Голые, перцы, 2014, США, друзья, свадьбы, прео...  \n",
       "2  Тактическая, сила, 2011, Канада, бандиты, ганг...  \n",
       "3  45, лет, 2015, Великобритания, брак, жизнь, лю...  \n",
       "4  Все, решает, мгновение, 1978, СССР, сильные, ж...  "
      ]
     },
     "execution_count": 29,
     "metadata": {},
     "output_type": "execute_result"
    }
   ],
   "source": [
    "items.head()"
   ]
  },
  {
   "cell_type": "code",
   "execution_count": 30,
   "metadata": {},
   "outputs": [
    {
     "data": {
      "text/plain": [
       "item_id         13865\n",
       "content_type        2\n",
       "title           13310\n",
       "title_orig       9638\n",
       "release_year      104\n",
       "genres           2544\n",
       "countries         665\n",
       "for_kids            2\n",
       "age_rating          6\n",
       "studios            38\n",
       "directors        7359\n",
       "actors          11710\n",
       "description     13638\n",
       "keywords        13438\n",
       "dtype: int64"
      ]
     },
     "execution_count": 30,
     "metadata": {},
     "output_type": "execute_result"
    }
   ],
   "source": [
    "items.nunique()"
   ]
  },
  {
   "cell_type": "markdown",
   "metadata": {},
   "source": [
    "### Genre"
   ]
  },
  {
   "cell_type": "code",
   "execution_count": 32,
   "metadata": {},
   "outputs": [
    {
     "data": {
      "text/html": [
       "<div>\n",
       "<style scoped>\n",
       "    .dataframe tbody tr th:only-of-type {\n",
       "        vertical-align: middle;\n",
       "    }\n",
       "\n",
       "    .dataframe tbody tr th {\n",
       "        vertical-align: top;\n",
       "    }\n",
       "\n",
       "    .dataframe thead th {\n",
       "        text-align: right;\n",
       "    }\n",
       "</style>\n",
       "<table border=\"1\" class=\"dataframe\">\n",
       "  <thead>\n",
       "    <tr style=\"text-align: right;\">\n",
       "      <th></th>\n",
       "      <th>id</th>\n",
       "      <th>value</th>\n",
       "      <th>feature</th>\n",
       "    </tr>\n",
       "  </thead>\n",
       "  <tbody>\n",
       "    <tr>\n",
       "      <th>0</th>\n",
       "      <td>10711</td>\n",
       "      <td>драмы</td>\n",
       "      <td>genre</td>\n",
       "    </tr>\n",
       "    <tr>\n",
       "      <th>0</th>\n",
       "      <td>10711</td>\n",
       "      <td>зарубежные</td>\n",
       "      <td>genre</td>\n",
       "    </tr>\n",
       "    <tr>\n",
       "      <th>0</th>\n",
       "      <td>10711</td>\n",
       "      <td>детективы</td>\n",
       "      <td>genre</td>\n",
       "    </tr>\n",
       "    <tr>\n",
       "      <th>0</th>\n",
       "      <td>10711</td>\n",
       "      <td>мелодрамы</td>\n",
       "      <td>genre</td>\n",
       "    </tr>\n",
       "    <tr>\n",
       "      <th>1</th>\n",
       "      <td>2508</td>\n",
       "      <td>зарубежные</td>\n",
       "      <td>genre</td>\n",
       "    </tr>\n",
       "  </tbody>\n",
       "</table>\n",
       "</div>"
      ],
      "text/plain": [
       "      id       value feature\n",
       "0  10711       драмы   genre\n",
       "0  10711  зарубежные   genre\n",
       "0  10711   детективы   genre\n",
       "0  10711   мелодрамы   genre\n",
       "1   2508  зарубежные   genre"
      ]
     },
     "execution_count": 32,
     "metadata": {},
     "output_type": "execute_result"
    }
   ],
   "source": [
    "items[\"genre\"] = items[\"genres\"].str.lower().str.replace(\", \", \",\", regex=False).str.split(\",\")\n",
    "genre_feature = items[[\"item_id\", \"genre\"]].explode(\"genre\")\n",
    "genre_feature.columns = [\"id\", \"value\"]\n",
    "genre_feature[\"feature\"] = \"genre\"\n",
    "genre_feature.head()"
   ]
  },
  {
   "cell_type": "markdown",
   "metadata": {},
   "source": [
    "### Content"
   ]
  },
  {
   "cell_type": "code",
   "execution_count": 33,
   "metadata": {},
   "outputs": [],
   "source": [
    "content_feature = items.reindex(columns=[Columns.Item, \"content_type\"])\n",
    "content_feature.columns = [\"id\", \"value\"]\n",
    "content_feature[\"feature\"] = \"content_type\""
   ]
  },
  {
   "cell_type": "code",
   "execution_count": 34,
   "metadata": {},
   "outputs": [
    {
     "data": {
      "text/html": [
       "<div>\n",
       "<style scoped>\n",
       "    .dataframe tbody tr th:only-of-type {\n",
       "        vertical-align: middle;\n",
       "    }\n",
       "\n",
       "    .dataframe tbody tr th {\n",
       "        vertical-align: top;\n",
       "    }\n",
       "\n",
       "    .dataframe thead th {\n",
       "        text-align: right;\n",
       "    }\n",
       "</style>\n",
       "<table border=\"1\" class=\"dataframe\">\n",
       "  <thead>\n",
       "    <tr style=\"text-align: right;\">\n",
       "      <th></th>\n",
       "      <th>id</th>\n",
       "      <th>value</th>\n",
       "      <th>feature</th>\n",
       "    </tr>\n",
       "  </thead>\n",
       "  <tbody>\n",
       "    <tr>\n",
       "      <th>0</th>\n",
       "      <td>10711</td>\n",
       "      <td>film</td>\n",
       "      <td>content_type</td>\n",
       "    </tr>\n",
       "    <tr>\n",
       "      <th>1</th>\n",
       "      <td>2508</td>\n",
       "      <td>film</td>\n",
       "      <td>content_type</td>\n",
       "    </tr>\n",
       "    <tr>\n",
       "      <th>2</th>\n",
       "      <td>10716</td>\n",
       "      <td>film</td>\n",
       "      <td>content_type</td>\n",
       "    </tr>\n",
       "    <tr>\n",
       "      <th>3</th>\n",
       "      <td>7868</td>\n",
       "      <td>film</td>\n",
       "      <td>content_type</td>\n",
       "    </tr>\n",
       "    <tr>\n",
       "      <th>4</th>\n",
       "      <td>16268</td>\n",
       "      <td>film</td>\n",
       "      <td>content_type</td>\n",
       "    </tr>\n",
       "    <tr>\n",
       "      <th>...</th>\n",
       "      <td>...</td>\n",
       "      <td>...</td>\n",
       "      <td>...</td>\n",
       "    </tr>\n",
       "    <tr>\n",
       "      <th>15958</th>\n",
       "      <td>6443</td>\n",
       "      <td>series</td>\n",
       "      <td>content_type</td>\n",
       "    </tr>\n",
       "    <tr>\n",
       "      <th>15959</th>\n",
       "      <td>2367</td>\n",
       "      <td>series</td>\n",
       "      <td>content_type</td>\n",
       "    </tr>\n",
       "    <tr>\n",
       "      <th>15960</th>\n",
       "      <td>10632</td>\n",
       "      <td>series</td>\n",
       "      <td>content_type</td>\n",
       "    </tr>\n",
       "    <tr>\n",
       "      <th>15961</th>\n",
       "      <td>4538</td>\n",
       "      <td>series</td>\n",
       "      <td>content_type</td>\n",
       "    </tr>\n",
       "    <tr>\n",
       "      <th>15962</th>\n",
       "      <td>3206</td>\n",
       "      <td>series</td>\n",
       "      <td>content_type</td>\n",
       "    </tr>\n",
       "  </tbody>\n",
       "</table>\n",
       "<p>13865 rows × 3 columns</p>\n",
       "</div>"
      ],
      "text/plain": [
       "          id   value       feature\n",
       "0      10711    film  content_type\n",
       "1       2508    film  content_type\n",
       "2      10716    film  content_type\n",
       "3       7868    film  content_type\n",
       "4      16268    film  content_type\n",
       "...      ...     ...           ...\n",
       "15958   6443  series  content_type\n",
       "15959   2367  series  content_type\n",
       "15960  10632  series  content_type\n",
       "15961   4538  series  content_type\n",
       "15962   3206  series  content_type\n",
       "\n",
       "[13865 rows x 3 columns]"
      ]
     },
     "execution_count": 34,
     "metadata": {},
     "output_type": "execute_result"
    }
   ],
   "source": [
    "content_feature"
   ]
  },
  {
   "cell_type": "code",
   "execution_count": 35,
   "metadata": {},
   "outputs": [],
   "source": [
    "item_features = pd.concat((genre_feature, content_feature))"
   ]
  },
  {
   "cell_type": "code",
   "execution_count": 36,
   "metadata": {},
   "outputs": [
    {
     "data": {
      "text/html": [
       "<div>\n",
       "<style scoped>\n",
       "    .dataframe tbody tr th:only-of-type {\n",
       "        vertical-align: middle;\n",
       "    }\n",
       "\n",
       "    .dataframe tbody tr th {\n",
       "        vertical-align: top;\n",
       "    }\n",
       "\n",
       "    .dataframe thead th {\n",
       "        text-align: right;\n",
       "    }\n",
       "</style>\n",
       "<table border=\"1\" class=\"dataframe\">\n",
       "  <thead>\n",
       "    <tr style=\"text-align: right;\">\n",
       "      <th></th>\n",
       "      <th>id</th>\n",
       "      <th>value</th>\n",
       "      <th>feature</th>\n",
       "    </tr>\n",
       "  </thead>\n",
       "  <tbody>\n",
       "    <tr>\n",
       "      <th>0</th>\n",
       "      <td>10711</td>\n",
       "      <td>драмы</td>\n",
       "      <td>genre</td>\n",
       "    </tr>\n",
       "    <tr>\n",
       "      <th>0</th>\n",
       "      <td>10711</td>\n",
       "      <td>зарубежные</td>\n",
       "      <td>genre</td>\n",
       "    </tr>\n",
       "    <tr>\n",
       "      <th>0</th>\n",
       "      <td>10711</td>\n",
       "      <td>детективы</td>\n",
       "      <td>genre</td>\n",
       "    </tr>\n",
       "    <tr>\n",
       "      <th>0</th>\n",
       "      <td>10711</td>\n",
       "      <td>мелодрамы</td>\n",
       "      <td>genre</td>\n",
       "    </tr>\n",
       "    <tr>\n",
       "      <th>1</th>\n",
       "      <td>2508</td>\n",
       "      <td>зарубежные</td>\n",
       "      <td>genre</td>\n",
       "    </tr>\n",
       "    <tr>\n",
       "      <th>...</th>\n",
       "      <td>...</td>\n",
       "      <td>...</td>\n",
       "      <td>...</td>\n",
       "    </tr>\n",
       "    <tr>\n",
       "      <th>15958</th>\n",
       "      <td>6443</td>\n",
       "      <td>series</td>\n",
       "      <td>content_type</td>\n",
       "    </tr>\n",
       "    <tr>\n",
       "      <th>15959</th>\n",
       "      <td>2367</td>\n",
       "      <td>series</td>\n",
       "      <td>content_type</td>\n",
       "    </tr>\n",
       "    <tr>\n",
       "      <th>15960</th>\n",
       "      <td>10632</td>\n",
       "      <td>series</td>\n",
       "      <td>content_type</td>\n",
       "    </tr>\n",
       "    <tr>\n",
       "      <th>15961</th>\n",
       "      <td>4538</td>\n",
       "      <td>series</td>\n",
       "      <td>content_type</td>\n",
       "    </tr>\n",
       "    <tr>\n",
       "      <th>15962</th>\n",
       "      <td>3206</td>\n",
       "      <td>series</td>\n",
       "      <td>content_type</td>\n",
       "    </tr>\n",
       "  </tbody>\n",
       "</table>\n",
       "<p>49685 rows × 3 columns</p>\n",
       "</div>"
      ],
      "text/plain": [
       "          id       value       feature\n",
       "0      10711       драмы         genre\n",
       "0      10711  зарубежные         genre\n",
       "0      10711   детективы         genre\n",
       "0      10711   мелодрамы         genre\n",
       "1       2508  зарубежные         genre\n",
       "...      ...         ...           ...\n",
       "15958   6443      series  content_type\n",
       "15959   2367      series  content_type\n",
       "15960  10632      series  content_type\n",
       "15961   4538      series  content_type\n",
       "15962   3206      series  content_type\n",
       "\n",
       "[49685 rows x 3 columns]"
      ]
     },
     "execution_count": 36,
     "metadata": {},
     "output_type": "execute_result"
    }
   ],
   "source": [
    "item_features"
   ]
  },
  {
   "cell_type": "code",
   "execution_count": 37,
   "metadata": {},
   "outputs": [
    {
     "name": "stdout",
     "output_type": "stream",
     "text": [
      "CPU times: user 945 ms, sys: 79.9 ms, total: 1.02 s\n",
      "Wall time: 1.02 s\n"
     ]
    }
   ],
   "source": [
    "%%time\n",
    "dataset = Dataset.construct(\n",
    "    interactions_df=train,\n",
    "    user_features_df=user_features,\n",
    "    cat_user_features=[\"sex\", \"age\", \"income\"],\n",
    "    item_features_df=item_features,\n",
    "    cat_item_features=[\"genre\", \"content_type\"],\n",
    ")"
   ]
  },
  {
   "cell_type": "code",
   "execution_count": 38,
   "metadata": {},
   "outputs": [],
   "source": [
    "TEST_USERS = test[Columns.User].unique()\n",
    "VALID_USERS = valid[Columns.User].unique()"
   ]
  },
  {
   "cell_type": "code",
   "execution_count": 39,
   "metadata": {},
   "outputs": [
    {
     "data": {
      "text/plain": [
       "((167348,), (107027,))"
      ]
     },
     "execution_count": 39,
     "metadata": {},
     "output_type": "execute_result"
    }
   ],
   "source": [
    "TEST_USERS.shape,VALID_USERS.shape"
   ]
  },
  {
   "cell_type": "markdown",
   "metadata": {},
   "source": [
    "# Metrics"
   ]
  },
  {
   "cell_type": "code",
   "execution_count": 40,
   "metadata": {},
   "outputs": [],
   "source": [
    "metrics_name = {\n",
    "    # 'Precision': Precision,\n",
    "    # 'Recall': Recall,\n",
    "    'MAP': MAP,\n",
    "}\n",
    "\n",
    "metrics = {}\n",
    "for metric_name, metric in metrics_name.items():\n",
    "    for k in [10]:\n",
    "        metrics[f'{metric_name}@{k}'] = metric(k=k)"
   ]
  },
  {
   "cell_type": "code",
   "execution_count": 41,
   "metadata": {},
   "outputs": [
    {
     "data": {
      "text/plain": [
       "{'MAP@10': MAP(k=10, divide_by_k=False)}"
      ]
     },
     "execution_count": 41,
     "metadata": {},
     "output_type": "execute_result"
    }
   ],
   "source": [
    "metrics"
   ]
  },
  {
   "cell_type": "markdown",
   "metadata": {},
   "source": [
    "# My models"
   ]
  },
  {
   "cell_type": "markdown",
   "metadata": {},
   "source": [
    "## Подбор гиперпараметров"
   ]
  },
  {
   "cell_type": "code",
   "execution_count": 42,
   "metadata": {},
   "outputs": [],
   "source": [
    "K_RECOS = 10\n",
    "NUM_THREADS = 16\n",
    "N_EPOCHS = 10 # Lightfm"
   ]
  },
  {
   "cell_type": "code",
   "execution_count": 43,
   "metadata": {},
   "outputs": [],
   "source": [
    "models = {\n",
    "    'ALS': AlternatingLeastSquares,\n",
    "    'LightFM': LightFM\n",
    "}"
   ]
  },
  {
   "cell_type": "code",
   "execution_count": 1,
   "metadata": {},
   "outputs": [],
   "source": [
    "# функция для оптимизации в optuna\n",
    "def opt_metric(trial, dataset, valid_user_ids, top_k, metric, model):\n",
    "    if model == 'ALS':\n",
    "        params = {\n",
    "            'num_threads': NUM_THREADS,\n",
    "            'random_state': RANDOM_STATE,\n",
    "            'regularization': trial.suggest_loguniform('regularization', 1e-5, 1.0),\n",
    "            'factors': trial.suggest_categorical('factors',[32,64,100]),\n",
    "            'iterations': trial.suggest_categorical('iterations',[20,30,40])           \n",
    "        }\n",
    "        rec_model = ImplicitALSWrapperModel(models[model](**params),\n",
    "                                            fit_features_together = True)\n",
    "        \n",
    "    elif model == 'LightFM':\n",
    "        params = {\n",
    "            'random_state': RANDOM_STATE,\n",
    "            'loss': trial.suggest_categorical('loss',['logistic', 'bpr', 'warp']),\n",
    "            'no_components': trial.suggest_categorical('no_components',\n",
    "                                                       [32,64,100]),\n",
    "            'learning_rate': trial.suggest_loguniform('learning_rate',\n",
    "                                                       1e-5, 0.99),\n",
    "            'user_alpha': trial.suggest_loguniform('user_alpha',\n",
    "                                                       1e-5, 0.99),\n",
    "            'item_alpha': trial.suggest_loguniform('item_alpha',\n",
    "                                                       1e-5, 0.99)\n",
    "        }\n",
    "        rec_model = LightFMWrapperModel(models[model](**params),\n",
    "                                        epochs=N_EPOCHS, num_threads=NUM_THREADS)\n",
    "        \n",
    "    rec_model.fit(dataset)\n",
    "    recos = rec_model.recommend(\n",
    "        users=valid_user_ids,\n",
    "        dataset=dataset,\n",
    "        k=top_k,\n",
    "        filter_viewed=True,\n",
    "    )\n",
    "    metric_values = calc_metrics(metric, recos, valid)\n",
    "    map10 = metric_values['MAP@10']\n",
    "    \n",
    "    return map10"
   ]
  },
  {
   "cell_type": "code",
   "execution_count": 53,
   "metadata": {},
   "outputs": [
    {
     "name": "stderr",
     "output_type": "stream",
     "text": [
      "\u001b[32m[I 2022-12-12 08:04:02,464]\u001b[0m A new study created in memory with name: no-name-90f21dd0-ea05-40e7-b8fc-3f6d87a6ca27\u001b[0m\n"
     ]
    }
   ],
   "source": [
    "study = optuna.create_study(direction = 'maximize')"
   ]
  },
  {
   "cell_type": "code",
   "execution_count": 54,
   "metadata": {},
   "outputs": [],
   "source": [
    "func = lambda trial: opt_metric(trial, dataset = dataset, valid_user_ids = VALID_USERS,\n",
    "                                top_k = K_RECOS, metric = metrics, model = 'ALS')"
   ]
  },
  {
   "cell_type": "code",
   "execution_count": 55,
   "metadata": {},
   "outputs": [
    {
     "data": {
      "application/vnd.jupyter.widget-view+json": {
       "model_id": "bef56edf596e413ca2cc14683d052ac2",
       "version_major": 2,
       "version_minor": 0
      },
      "text/plain": [
       "  0%|          | 0/10 [00:00<?, ?it/s]"
      ]
     },
     "metadata": {},
     "output_type": "display_data"
    },
    {
     "name": "stdout",
     "output_type": "stream",
     "text": [
      "\u001b[32m[I 2022-12-12 08:24:47,385]\u001b[0m Trial 5 finished with value: 0.0590923908737808 and parameters: {'regularization': 3.329587228423343e-05, 'factors': 32, 'iterations': 30}. Best is trial 5 with value: 0.0590923908737808.\u001b[0m\n",
      "\u001b[32m[I 2022-12-12 08:29:29,499]\u001b[0m Trial 6 finished with value: 0.07581063939210497 and parameters: {'regularization': 0.013894886460722865, 'factors': 100, 'iterations': 20}. Best is trial 6 with value: 0.07581063939210497.\u001b[0m\n",
      "\u001b[32m[I 2022-12-12 09:09:23,664]\u001b[0m Trial 7 finished with value: 0.04594552410686065 and parameters: {'regularization': 0.3816171362260296, 'factors': 32, 'iterations': 40}. Best is trial 6 with value: 0.07581063939210497.\u001b[0m\n",
      "\u001b[32m[I 2022-12-12 09:21:21,813]\u001b[0m Trial 2 finished with value: 0.06651980569881531 and parameters: {'regularization': 0.00016150714553188474, 'factors': 64, 'iterations': 30}. Best is trial 6 with value: 0.07581063939210497.\u001b[0m\n",
      "\u001b[32m[I 2022-12-12 09:21:26,622]\u001b[0m Trial 0 finished with value: 0.06539462266281261 and parameters: {'regularization': 0.0003233985502241158, 'factors': 64, 'iterations': 30}. Best is trial 6 with value: 0.07581063939210497.\u001b[0m\n",
      "\u001b[32m[I 2022-12-12 09:27:11,804]\u001b[0m Trial 4 finished with value: 0.04533306289204747 and parameters: {'regularization': 2.3514973260266852e-05, 'factors': 64, 'iterations': 40}. Best is trial 6 with value: 0.07581063939210497.\u001b[0m\n",
      "\u001b[32m[I 2022-12-12 09:27:11,917]\u001b[0m Trial 1 finished with value: 0.040002726119775414 and parameters: {'regularization': 0.0024925104378257326, 'factors': 64, 'iterations': 40}. Best is trial 6 with value: 0.07581063939210497.\u001b[0m\n",
      "\u001b[32m[I 2022-12-12 09:31:39,159]\u001b[0m Trial 3 finished with value: 0.04888174093595463 and parameters: {'regularization': 0.001130407207251941, 'factors': 100, 'iterations': 40}. Best is trial 6 with value: 0.07581063939210497.\u001b[0m\n",
      "\u001b[32m[I 2022-12-12 09:35:00,087]\u001b[0m Trial 9 finished with value: 0.045307584210651085 and parameters: {'regularization': 0.041003600857418505, 'factors': 32, 'iterations': 40}. Best is trial 6 with value: 0.07581063939210497.\u001b[0m\n",
      "\u001b[32m[I 2022-12-12 09:35:50,025]\u001b[0m Trial 8 finished with value: 0.06013416311788779 and parameters: {'regularization': 0.12571913515718264, 'factors': 100, 'iterations': 30}. Best is trial 6 with value: 0.07581063939210497.\u001b[0m\n"
     ]
    }
   ],
   "source": [
    "study.optimize(func, n_jobs = -1, n_trials = 10, show_progress_bar = True)"
   ]
  },
  {
   "cell_type": "code",
   "execution_count": 56,
   "metadata": {},
   "outputs": [
    {
     "data": {
      "text/plain": [
       "{'regularization': 0.013894886460722865, 'factors': 100, 'iterations': 20}"
      ]
     },
     "execution_count": 56,
     "metadata": {},
     "output_type": "execute_result"
    }
   ],
   "source": [
    "study.best_params"
   ]
  },
  {
   "cell_type": "code",
   "execution_count": 58,
   "metadata": {},
   "outputs": [
    {
     "name": "stderr",
     "output_type": "stream",
     "text": [
      "\u001b[32m[I 2022-12-12 09:39:49,211]\u001b[0m A new study created in memory with name: no-name-08c53d71-c176-4d39-9da8-2f1060711335\u001b[0m\n"
     ]
    }
   ],
   "source": [
    "study2 = optuna.create_study(direction = 'maximize')"
   ]
  },
  {
   "cell_type": "code",
   "execution_count": 60,
   "metadata": {},
   "outputs": [],
   "source": [
    "func2 = lambda trial: opt_metric(trial, dataset = dataset, valid_user_ids = VALID_USERS,\n",
    "                                top_k = K_RECOS, metric = metrics, model = 'LightFM')"
   ]
  },
  {
   "cell_type": "code",
   "execution_count": 61,
   "metadata": {},
   "outputs": [
    {
     "data": {
      "application/vnd.jupyter.widget-view+json": {
       "model_id": "826cd150d476475294bc8db8321e3d98",
       "version_major": 2,
       "version_minor": 0
      },
      "text/plain": [
       "  0%|          | 0/10 [00:00<?, ?it/s]"
      ]
     },
     "metadata": {},
     "output_type": "display_data"
    },
    {
     "name": "stdout",
     "output_type": "stream",
     "text": [
      "\u001b[32m[I 2022-12-12 09:45:57,143]\u001b[0m Trial 2 finished with value: 0.0002695756042956092 and parameters: {'loss': 'logistic', 'no_components': 32, 'learning_rate': 0.3557749875105895, 'user_alpha': 0.0010805487628487438, 'item_alpha': 5.382014498159319e-05}. Best is trial 2 with value: 0.0002695756042956092.\u001b[0m\n",
      "\u001b[32m[I 2022-12-12 09:48:21,896]\u001b[0m Trial 7 finished with value: 0.0360780822112548 and parameters: {'loss': 'bpr', 'no_components': 32, 'learning_rate': 0.0068816381292813675, 'user_alpha': 0.30461309307876794, 'item_alpha': 0.015224294808610872}. Best is trial 7 with value: 0.0360780822112548.\u001b[0m\n",
      "\u001b[32m[I 2022-12-12 09:53:22,894]\u001b[0m Trial 3 finished with value: 0.00024031997081875686 and parameters: {'loss': 'logistic', 'no_components': 64, 'learning_rate': 0.00028844174584927385, 'user_alpha': 1.6936208016966782e-05, 'item_alpha': 0.00010452688726192654}. Best is trial 7 with value: 0.0360780822112548.\u001b[0m\n",
      "\u001b[32m[I 2022-12-12 10:02:46,191]\u001b[0m Trial 0 finished with value: 4.1010157616247665e-06 and parameters: {'loss': 'bpr', 'no_components': 64, 'learning_rate': 0.11015485498347691, 'user_alpha': 3.0495401232416834e-05, 'item_alpha': 0.005257380720469306}. Best is trial 7 with value: 0.0360780822112548.\u001b[0m\n",
      "\u001b[32m[I 2022-12-12 10:05:35,081]\u001b[0m Trial 6 finished with value: 3.410849791649274e-05 and parameters: {'loss': 'warp', 'no_components': 64, 'learning_rate': 0.507188766078067, 'user_alpha': 5.3064733041196014e-05, 'item_alpha': 0.16396285282388373}. Best is trial 7 with value: 0.0360780822112548.\u001b[0m\n",
      "\u001b[32m[I 2022-12-12 10:08:16,085]\u001b[0m Trial 4 finished with value: 0.08261434202079407 and parameters: {'loss': 'warp', 'no_components': 100, 'learning_rate': 0.0066594231278431434, 'user_alpha': 0.0005203512950757777, 'item_alpha': 0.0003116105897809789}. Best is trial 4 with value: 0.08261434202079407.\u001b[0m\n",
      "\u001b[32m[I 2022-12-12 10:11:40,435]\u001b[0m Trial 5 finished with value: 4.293656794917093e-05 and parameters: {'loss': 'warp', 'no_components': 100, 'learning_rate': 0.07519562543706729, 'user_alpha': 0.57505528171328, 'item_alpha': 8.841989411119735e-05}. Best is trial 4 with value: 0.08261434202079407.\u001b[0m\n",
      "\u001b[32m[I 2022-12-12 10:12:43,614]\u001b[0m Trial 1 finished with value: 0.0002465154367938484 and parameters: {'loss': 'logistic', 'no_components': 100, 'learning_rate': 0.45832349662192035, 'user_alpha': 0.0011353770994603724, 'item_alpha': 0.015421563195620913}. Best is trial 4 with value: 0.08261434202079407.\u001b[0m\n",
      "\u001b[32m[I 2022-12-12 10:13:15,459]\u001b[0m Trial 8 finished with value: 5.805648258206249e-06 and parameters: {'loss': 'bpr', 'no_components': 64, 'learning_rate': 0.46438386835598683, 'user_alpha': 0.00020794232028869408, 'item_alpha': 0.16106902338170045}. Best is trial 4 with value: 0.08261434202079407.\u001b[0m\n",
      "\u001b[32m[I 2022-12-12 10:55:50,814]\u001b[0m Trial 9 finished with value: 0.0004967636565817396 and parameters: {'loss': 'logistic', 'no_components': 100, 'learning_rate': 0.16224063308285208, 'user_alpha': 0.00026338798780004523, 'item_alpha': 0.6859087408219992}. Best is trial 4 with value: 0.08261434202079407.\u001b[0m\n"
     ]
    }
   ],
   "source": [
    "study2.optimize(func2, n_jobs = -1, n_trials = 10, show_progress_bar = True)"
   ]
  },
  {
   "cell_type": "code",
   "execution_count": 62,
   "metadata": {},
   "outputs": [
    {
     "data": {
      "text/plain": [
       "{'loss': 'warp',\n",
       " 'no_components': 100,\n",
       " 'learning_rate': 0.0066594231278431434,\n",
       " 'user_alpha': 0.0005203512950757777,\n",
       " 'item_alpha': 0.0003116105897809789}"
      ]
     },
     "execution_count": 62,
     "metadata": {},
     "output_type": "execute_result"
    }
   ],
   "source": [
    "study2.best_params"
   ]
  },
  {
   "cell_type": "code",
   "execution_count": 64,
   "metadata": {},
   "outputs": [
    {
     "data": {
      "text/plain": [
       "0.08261434202079407"
      ]
     },
     "execution_count": 64,
     "metadata": {},
     "output_type": "execute_result"
    }
   ],
   "source": [
    "study2.best_value"
   ]
  },
  {
   "cell_type": "code",
   "execution_count": 65,
   "metadata": {},
   "outputs": [],
   "source": [
    "#сохранение лучших гиперпараметров\n",
    "best_light_fm_params = {\n",
    "    'loss': 'warp',\n",
    "    'no_components': 100,\n",
    "    'learning_rate': 0.0066594231278431434,\n",
    "    'user_alpha': 0.0005203512950757777,\n",
    "    'item_alpha': 0.0003116105897809789,\n",
    "    'random_state': 42,\n",
    "}"
   ]
  },
  {
   "cell_type": "code",
   "execution_count": 453,
   "metadata": {},
   "outputs": [],
   "source": [
    "best_model = LightFMWrapperModel(LightFM(**best_light_fm_params),\n",
    "                                        epochs=N_EPOCHS, num_threads=NUM_THREADS)"
   ]
  },
  {
   "cell_type": "code",
   "execution_count": 454,
   "metadata": {},
   "outputs": [
    {
     "data": {
      "text/plain": [
       "<rectools.models.lightfm.LightFMWrapperModel at 0x7f91484ae790>"
      ]
     },
     "execution_count": 454,
     "metadata": {},
     "output_type": "execute_result"
    }
   ],
   "source": [
    "best_model.fit(dataset)"
   ]
  },
  {
   "cell_type": "markdown",
   "metadata": {},
   "source": [
    "# Добавление аватаров"
   ]
  },
  {
   "cell_type": "code",
   "execution_count": 455,
   "metadata": {},
   "outputs": [
    {
     "data": {
      "text/plain": [
       "1097557"
      ]
     },
     "execution_count": 455,
     "metadata": {},
     "output_type": "execute_result"
    }
   ],
   "source": [
    "users['user_id'].max()"
   ]
  },
  {
   "cell_type": "code",
   "execution_count": 456,
   "metadata": {},
   "outputs": [],
   "source": [
    "def show_rows(title):\n",
    "    return(items[items['title'].str.contains(title, na=False)])"
   ]
  },
  {
   "cell_type": "code",
   "execution_count": 457,
   "metadata": {},
   "outputs": [
    {
     "data": {
      "text/html": [
       "<div>\n",
       "<style scoped>\n",
       "    .dataframe tbody tr th:only-of-type {\n",
       "        vertical-align: middle;\n",
       "    }\n",
       "\n",
       "    .dataframe tbody tr th {\n",
       "        vertical-align: top;\n",
       "    }\n",
       "\n",
       "    .dataframe thead th {\n",
       "        text-align: right;\n",
       "    }\n",
       "</style>\n",
       "<table border=\"1\" class=\"dataframe\">\n",
       "  <thead>\n",
       "    <tr style=\"text-align: right;\">\n",
       "      <th></th>\n",
       "      <th>item_id</th>\n",
       "      <th>content_type</th>\n",
       "      <th>title</th>\n",
       "      <th>title_orig</th>\n",
       "      <th>release_year</th>\n",
       "      <th>genres</th>\n",
       "      <th>countries</th>\n",
       "      <th>for_kids</th>\n",
       "      <th>age_rating</th>\n",
       "      <th>studios</th>\n",
       "      <th>directors</th>\n",
       "      <th>actors</th>\n",
       "      <th>description</th>\n",
       "      <th>keywords</th>\n",
       "      <th>genre</th>\n",
       "    </tr>\n",
       "  </thead>\n",
       "  <tbody>\n",
       "    <tr>\n",
       "      <th>2965</th>\n",
       "      <td>4065</td>\n",
       "      <td>film</td>\n",
       "      <td>Наруто 8: Кровавая тюрьма</td>\n",
       "      <td>Naruto Shippuden the Movie: Blood Prison</td>\n",
       "      <td>2011.0</td>\n",
       "      <td>аниме, приключения</td>\n",
       "      <td>Япония</td>\n",
       "      <td>NaN</td>\n",
       "      <td>12.0</td>\n",
       "      <td>NaN</td>\n",
       "      <td>Масахико Мурата</td>\n",
       "      <td>Дзюнко Такэути, Тиэ Накамура, Рикия Кояма, Кад...</td>\n",
       "      <td>По сюжету Наруто сажают в тюрьму под названием...</td>\n",
       "      <td>аниме, наруто, Тюрьма, 2011, япония, кровавая,...</td>\n",
       "      <td>[аниме, приключения]</td>\n",
       "    </tr>\n",
       "    <tr>\n",
       "      <th>7558</th>\n",
       "      <td>11864</td>\n",
       "      <td>film</td>\n",
       "      <td>Наруто 7: Потерянная башня</td>\n",
       "      <td>Naruto Shippûden: The Lost Tower</td>\n",
       "      <td>2010.0</td>\n",
       "      <td>аниме, приключения</td>\n",
       "      <td>Япония</td>\n",
       "      <td>NaN</td>\n",
       "      <td>12.0</td>\n",
       "      <td>NaN</td>\n",
       "      <td>Масахико Мурата</td>\n",
       "      <td>Дзюнко Такэути, Тиэ Накамура, Сатоси Хино, Рик...</td>\n",
       "      <td>На Наруто возложена миссия захватить Мукаде (М...</td>\n",
       "      <td>аниме, наруто, 2010, япония, потерянная, башня</td>\n",
       "      <td>[аниме, приключения]</td>\n",
       "    </tr>\n",
       "    <tr>\n",
       "      <th>14949</th>\n",
       "      <td>13583</td>\n",
       "      <td>film</td>\n",
       "      <td>Наруто 9: Путь ниндзя</td>\n",
       "      <td>Road to Ninja: Naruto the Movie</td>\n",
       "      <td>2012.0</td>\n",
       "      <td>аниме, фэнтези, приключения</td>\n",
       "      <td>Япония</td>\n",
       "      <td>NaN</td>\n",
       "      <td>12.0</td>\n",
       "      <td>NaN</td>\n",
       "      <td>Хаято Датэ</td>\n",
       "      <td>Дзюнко Такэути, Тиэ Накамура, Тосиюки Морикава...</td>\n",
       "      <td>Человек в маске, представленный зрителю как Уч...</td>\n",
       "      <td>япония, деревня, любовь, ниндзя, наруто ураган...</td>\n",
       "      <td>[аниме, фэнтези, приключения]</td>\n",
       "    </tr>\n",
       "    <tr>\n",
       "      <th>15580</th>\n",
       "      <td>13202</td>\n",
       "      <td>film</td>\n",
       "      <td>Наруто: Последний фильм</td>\n",
       "      <td>The Last: Naruto the Movie</td>\n",
       "      <td>2014.0</td>\n",
       "      <td>боевики, аниме, приключения, комедии</td>\n",
       "      <td>Япония</td>\n",
       "      <td>NaN</td>\n",
       "      <td>12.0</td>\n",
       "      <td>NaN</td>\n",
       "      <td>Цунэо Кобаяси</td>\n",
       "      <td>Дзюнко Такэути, Нана Мидзуки, Дзюн Фукуяма, Ти...</td>\n",
       "      <td>Маленькая Ханаби похищена инопланетным злодеем...</td>\n",
       "      <td>Наруто ураганные хроники, аниме, наруто, Бой, ...</td>\n",
       "      <td>[боевики, аниме, приключения, комедии]</td>\n",
       "    </tr>\n",
       "  </tbody>\n",
       "</table>\n",
       "</div>"
      ],
      "text/plain": [
       "       item_id content_type                       title  \\\n",
       "2965      4065         film   Наруто 8: Кровавая тюрьма   \n",
       "7558     11864         film  Наруто 7: Потерянная башня   \n",
       "14949    13583         film       Наруто 9: Путь ниндзя   \n",
       "15580    13202         film     Наруто: Последний фильм   \n",
       "\n",
       "                                     title_orig  release_year  \\\n",
       "2965   Naruto Shippuden the Movie: Blood Prison        2011.0   \n",
       "7558           Naruto Shippûden: The Lost Tower        2010.0   \n",
       "14949           Road to Ninja: Naruto the Movie        2012.0   \n",
       "15580                The Last: Naruto the Movie        2014.0   \n",
       "\n",
       "                                     genres countries  for_kids  age_rating  \\\n",
       "2965                     аниме, приключения    Япония       NaN        12.0   \n",
       "7558                     аниме, приключения    Япония       NaN        12.0   \n",
       "14949           аниме, фэнтези, приключения    Япония       NaN        12.0   \n",
       "15580  боевики, аниме, приключения, комедии    Япония       NaN        12.0   \n",
       "\n",
       "      studios        directors  \\\n",
       "2965      NaN  Масахико Мурата   \n",
       "7558      NaN  Масахико Мурата   \n",
       "14949     NaN       Хаято Датэ   \n",
       "15580     NaN    Цунэо Кобаяси   \n",
       "\n",
       "                                                  actors  \\\n",
       "2965   Дзюнко Такэути, Тиэ Накамура, Рикия Кояма, Кад...   \n",
       "7558   Дзюнко Такэути, Тиэ Накамура, Сатоси Хино, Рик...   \n",
       "14949  Дзюнко Такэути, Тиэ Накамура, Тосиюки Морикава...   \n",
       "15580  Дзюнко Такэути, Нана Мидзуки, Дзюн Фукуяма, Ти...   \n",
       "\n",
       "                                             description  \\\n",
       "2965   По сюжету Наруто сажают в тюрьму под названием...   \n",
       "7558   На Наруто возложена миссия захватить Мукаде (М...   \n",
       "14949  Человек в маске, представленный зрителю как Уч...   \n",
       "15580  Маленькая Ханаби похищена инопланетным злодеем...   \n",
       "\n",
       "                                                keywords  \\\n",
       "2965   аниме, наруто, Тюрьма, 2011, япония, кровавая,...   \n",
       "7558      аниме, наруто, 2010, япония, потерянная, башня   \n",
       "14949  япония, деревня, любовь, ниндзя, наруто ураган...   \n",
       "15580  Наруто ураганные хроники, аниме, наруто, Бой, ...   \n",
       "\n",
       "                                        genre  \n",
       "2965                     [аниме, приключения]  \n",
       "7558                     [аниме, приключения]  \n",
       "14949           [аниме, фэнтези, приключения]  \n",
       "15580  [боевики, аниме, приключения, комедии]  "
      ]
     },
     "execution_count": 457,
     "metadata": {},
     "output_type": "execute_result"
    }
   ],
   "source": [
    "show_rows('Наруто')"
   ]
  },
  {
   "cell_type": "markdown",
   "metadata": {},
   "source": [
    "Было создано 3 аватара, каждый из которых представляет из себя 3 архетипа:\n",
    "\n",
    "1. Молодой человек, смотрящий аниме\n",
    "2. Женщина с ребенком, увлекающаяся просмотром сериалов\n",
    "3. Аватар неизвестного возраста (предполагается, что ребенка), у коготоро доминируют мультфильмы\n",
    "\n",
    "В идеале, в топе рекомендаций должны присутствовать произведения соответствующих жанров"
   ]
  },
  {
   "cell_type": "code",
   "execution_count": 458,
   "metadata": {},
   "outputs": [],
   "source": [
    "#анимешник\n",
    "user1 = [1097558, 'age_18_24','income_0_20','М',0]\n",
    "#молодая домохозяйка любящая сериалы\n",
    "user2 = [1097559, 'age_25_34','income_20_40','Ж',1]\n",
    "#ребенок любящий мультики\n",
    "user3 = [1097560, 'Unknown','income_0_20','Ж',0]\n",
    "new_users = pd.DataFrame([user1,user2,user3],\n",
    "                         columns = [\"user_id\",\"age\",\"income\", \"sex\",\"kids_flg\"])\n",
    "new_interactions_list = [\n",
    "    [1097558,13202,'2021-04-13', 1500, 100.0, 3],\n",
    "    [1097558,8477,'2021-04-14', 1500, 100.0, 3],\n",
    "    [1097558,3787,'2021-04-15', 1500, 100.0, 3],\n",
    "    [1097559,14879,'2021-04-13', 1500, 100.0, 3],\n",
    "    [1097559,6781,'2021-04-14', 1500, 100.0, 3],\n",
    "    [1097559,16179,'2021-04-15', 1500, 100.0, 3],\n",
    "    [1097560,5315,'2021-04-13', 1500, 100.0, 3],\n",
    "    [1097560,12988,'2021-04-14', 1500, 100.0, 3],\n",
    "    [1097560,14177,'2021-04-15', 1500, 100.0, 3],\n",
    "]\n",
    "\n",
    "new_interactions = pd.DataFrame(new_interactions_list, \n",
    "                               columns = [\"user_id\",\"item_id\",\"last_watch_dt\",\n",
    "                                          \"total_dur\",\"watched_pct\",\"weight\"])"
   ]
  },
  {
   "cell_type": "code",
   "execution_count": 459,
   "metadata": {},
   "outputs": [
    {
     "data": {
      "text/html": [
       "<div>\n",
       "<style scoped>\n",
       "    .dataframe tbody tr th:only-of-type {\n",
       "        vertical-align: middle;\n",
       "    }\n",
       "\n",
       "    .dataframe tbody tr th {\n",
       "        vertical-align: top;\n",
       "    }\n",
       "\n",
       "    .dataframe thead th {\n",
       "        text-align: right;\n",
       "    }\n",
       "</style>\n",
       "<table border=\"1\" class=\"dataframe\">\n",
       "  <thead>\n",
       "    <tr style=\"text-align: right;\">\n",
       "      <th></th>\n",
       "      <th>id</th>\n",
       "      <th>value</th>\n",
       "      <th>feature</th>\n",
       "    </tr>\n",
       "  </thead>\n",
       "  <tbody>\n",
       "    <tr>\n",
       "      <th>0</th>\n",
       "      <td>1097558</td>\n",
       "      <td>М</td>\n",
       "      <td>sex</td>\n",
       "    </tr>\n",
       "    <tr>\n",
       "      <th>1</th>\n",
       "      <td>1097559</td>\n",
       "      <td>Ж</td>\n",
       "      <td>sex</td>\n",
       "    </tr>\n",
       "    <tr>\n",
       "      <th>2</th>\n",
       "      <td>1097560</td>\n",
       "      <td>Ж</td>\n",
       "      <td>sex</td>\n",
       "    </tr>\n",
       "    <tr>\n",
       "      <th>0</th>\n",
       "      <td>1097558</td>\n",
       "      <td>age_18_24</td>\n",
       "      <td>age</td>\n",
       "    </tr>\n",
       "    <tr>\n",
       "      <th>1</th>\n",
       "      <td>1097559</td>\n",
       "      <td>age_25_34</td>\n",
       "      <td>age</td>\n",
       "    </tr>\n",
       "  </tbody>\n",
       "</table>\n",
       "</div>"
      ],
      "text/plain": [
       "        id      value feature\n",
       "0  1097558          М     sex\n",
       "1  1097559          Ж     sex\n",
       "2  1097560          Ж     sex\n",
       "0  1097558  age_18_24     age\n",
       "1  1097559  age_25_34     age"
      ]
     },
     "execution_count": 459,
     "metadata": {},
     "output_type": "execute_result"
    }
   ],
   "source": [
    "new_user_features_frames = []\n",
    "for feature in [\"sex\", \"age\", \"income\"]:\n",
    "    feature_frame = new_users.reindex(columns=[Columns.User, feature])\n",
    "    feature_frame.columns = [\"id\", \"value\"]\n",
    "    feature_frame[\"feature\"] = feature\n",
    "    new_user_features_frames.append(feature_frame)\n",
    "new_user_features = pd.concat(new_user_features_frames)\n",
    "new_user_features.head()"
   ]
  },
  {
   "cell_type": "code",
   "execution_count": 460,
   "metadata": {},
   "outputs": [],
   "source": [
    "new_train = pd.concat([interactions,new_interactions],ignore_index = True)\n",
    "new_all_user_features = pd.concat([user_features,new_user_features],\n",
    "                                  ignore_index = True)"
   ]
  },
  {
   "cell_type": "code",
   "execution_count": 461,
   "metadata": {},
   "outputs": [],
   "source": [
    "new_dataset = Dataset.construct(\n",
    "    interactions_df=new_train,\n",
    "    user_features_df=new_all_user_features,\n",
    "    cat_user_features=[\"sex\", \"age\", \"income\"],\n",
    "    item_features_df=item_features,\n",
    "    cat_item_features=[\"genre\", \"content_type\"],\n",
    ")"
   ]
  },
  {
   "cell_type": "code",
   "execution_count": 462,
   "metadata": {},
   "outputs": [],
   "source": [
    "best_new_model = LightFMWrapperModel(LightFM(**best_light_fm_params),\n",
    "                                        epochs=N_EPOCHS, num_threads=NUM_THREADS)"
   ]
  },
  {
   "cell_type": "code",
   "execution_count": 463,
   "metadata": {},
   "outputs": [
    {
     "data": {
      "text/plain": [
       "<rectools.models.lightfm.LightFMWrapperModel at 0x7f9172ec5dc0>"
      ]
     },
     "execution_count": 463,
     "metadata": {},
     "output_type": "execute_result"
    }
   ],
   "source": [
    "best_new_model.fit(new_dataset)"
   ]
  },
  {
   "cell_type": "code",
   "execution_count": 464,
   "metadata": {},
   "outputs": [],
   "source": [
    "new_recos = best_new_model.recommend(\n",
    "    users=[user1[0],user2[0],user3[0]],\n",
    "    dataset=new_dataset,\n",
    "    k=10,\n",
    "    filter_viewed=True,\n",
    ")"
   ]
  },
  {
   "cell_type": "code",
   "execution_count": 465,
   "metadata": {},
   "outputs": [
    {
     "data": {
      "text/html": [
       "<div>\n",
       "<style scoped>\n",
       "    .dataframe tbody tr th:only-of-type {\n",
       "        vertical-align: middle;\n",
       "    }\n",
       "\n",
       "    .dataframe tbody tr th {\n",
       "        vertical-align: top;\n",
       "    }\n",
       "\n",
       "    .dataframe thead th {\n",
       "        text-align: right;\n",
       "    }\n",
       "</style>\n",
       "<table border=\"1\" class=\"dataframe\">\n",
       "  <thead>\n",
       "    <tr style=\"text-align: right;\">\n",
       "      <th></th>\n",
       "      <th>item_id</th>\n",
       "      <th>title</th>\n",
       "      <th>genres</th>\n",
       "      <th>user_id</th>\n",
       "      <th>score</th>\n",
       "      <th>rank</th>\n",
       "    </tr>\n",
       "  </thead>\n",
       "  <tbody>\n",
       "    <tr>\n",
       "      <th>0</th>\n",
       "      <td>4151</td>\n",
       "      <td>Секреты семейной жизни</td>\n",
       "      <td>комедии</td>\n",
       "      <td>1097558</td>\n",
       "      <td>-22.607544</td>\n",
       "      <td>1</td>\n",
       "    </tr>\n",
       "    <tr>\n",
       "      <th>1</th>\n",
       "      <td>7571</td>\n",
       "      <td>100% волк</td>\n",
       "      <td>мультфильм, приключения, семейное, фэнтези, ко...</td>\n",
       "      <td>1097558</td>\n",
       "      <td>-22.702321</td>\n",
       "      <td>2</td>\n",
       "    </tr>\n",
       "    <tr>\n",
       "      <th>2</th>\n",
       "      <td>15297</td>\n",
       "      <td>Клиника счастья</td>\n",
       "      <td>драмы, мелодрамы</td>\n",
       "      <td>1097558</td>\n",
       "      <td>-22.708507</td>\n",
       "      <td>3</td>\n",
       "    </tr>\n",
       "    <tr>\n",
       "      <th>3</th>\n",
       "      <td>4880</td>\n",
       "      <td>Афера</td>\n",
       "      <td>комедии</td>\n",
       "      <td>1097558</td>\n",
       "      <td>-22.783512</td>\n",
       "      <td>4</td>\n",
       "    </tr>\n",
       "    <tr>\n",
       "      <th>4</th>\n",
       "      <td>3734</td>\n",
       "      <td>Прабабушка легкого поведения</td>\n",
       "      <td>комедии</td>\n",
       "      <td>1097558</td>\n",
       "      <td>-22.832664</td>\n",
       "      <td>5</td>\n",
       "    </tr>\n",
       "    <tr>\n",
       "      <th>5</th>\n",
       "      <td>10440</td>\n",
       "      <td>Хрустальный</td>\n",
       "      <td>триллеры, детективы</td>\n",
       "      <td>1097558</td>\n",
       "      <td>-22.853980</td>\n",
       "      <td>6</td>\n",
       "    </tr>\n",
       "    <tr>\n",
       "      <th>6</th>\n",
       "      <td>13865</td>\n",
       "      <td>Девятаев</td>\n",
       "      <td>драмы, военные, приключения</td>\n",
       "      <td>1097558</td>\n",
       "      <td>-23.046195</td>\n",
       "      <td>7</td>\n",
       "    </tr>\n",
       "    <tr>\n",
       "      <th>7</th>\n",
       "      <td>9728</td>\n",
       "      <td>Гнев человеческий</td>\n",
       "      <td>боевики, триллеры</td>\n",
       "      <td>1097558</td>\n",
       "      <td>-23.094686</td>\n",
       "      <td>8</td>\n",
       "    </tr>\n",
       "    <tr>\n",
       "      <th>8</th>\n",
       "      <td>2657</td>\n",
       "      <td>Подслушано</td>\n",
       "      <td>драмы, триллеры</td>\n",
       "      <td>1097558</td>\n",
       "      <td>-23.305981</td>\n",
       "      <td>9</td>\n",
       "    </tr>\n",
       "    <tr>\n",
       "      <th>9</th>\n",
       "      <td>11237</td>\n",
       "      <td>День города</td>\n",
       "      <td>комедии</td>\n",
       "      <td>1097558</td>\n",
       "      <td>-23.325321</td>\n",
       "      <td>10</td>\n",
       "    </tr>\n",
       "    <tr>\n",
       "      <th>10</th>\n",
       "      <td>15297</td>\n",
       "      <td>Клиника счастья</td>\n",
       "      <td>драмы, мелодрамы</td>\n",
       "      <td>1097559</td>\n",
       "      <td>-38.006945</td>\n",
       "      <td>1</td>\n",
       "    </tr>\n",
       "    <tr>\n",
       "      <th>11</th>\n",
       "      <td>10440</td>\n",
       "      <td>Хрустальный</td>\n",
       "      <td>триллеры, детективы</td>\n",
       "      <td>1097559</td>\n",
       "      <td>-38.294396</td>\n",
       "      <td>2</td>\n",
       "    </tr>\n",
       "    <tr>\n",
       "      <th>12</th>\n",
       "      <td>4151</td>\n",
       "      <td>Секреты семейной жизни</td>\n",
       "      <td>комедии</td>\n",
       "      <td>1097559</td>\n",
       "      <td>-38.761770</td>\n",
       "      <td>3</td>\n",
       "    </tr>\n",
       "    <tr>\n",
       "      <th>13</th>\n",
       "      <td>2657</td>\n",
       "      <td>Подслушано</td>\n",
       "      <td>драмы, триллеры</td>\n",
       "      <td>1097559</td>\n",
       "      <td>-38.771008</td>\n",
       "      <td>4</td>\n",
       "    </tr>\n",
       "    <tr>\n",
       "      <th>14</th>\n",
       "      <td>12192</td>\n",
       "      <td>Фемида видит</td>\n",
       "      <td>драмы, детективы, комедии</td>\n",
       "      <td>1097559</td>\n",
       "      <td>-39.004690</td>\n",
       "      <td>5</td>\n",
       "    </tr>\n",
       "    <tr>\n",
       "      <th>15</th>\n",
       "      <td>9996</td>\n",
       "      <td>Немцы</td>\n",
       "      <td>драмы</td>\n",
       "      <td>1097559</td>\n",
       "      <td>-39.055617</td>\n",
       "      <td>6</td>\n",
       "    </tr>\n",
       "    <tr>\n",
       "      <th>16</th>\n",
       "      <td>4880</td>\n",
       "      <td>Афера</td>\n",
       "      <td>комедии</td>\n",
       "      <td>1097559</td>\n",
       "      <td>-39.098498</td>\n",
       "      <td>7</td>\n",
       "    </tr>\n",
       "    <tr>\n",
       "      <th>17</th>\n",
       "      <td>3734</td>\n",
       "      <td>Прабабушка легкого поведения</td>\n",
       "      <td>комедии</td>\n",
       "      <td>1097559</td>\n",
       "      <td>-39.257599</td>\n",
       "      <td>8</td>\n",
       "    </tr>\n",
       "    <tr>\n",
       "      <th>18</th>\n",
       "      <td>6192</td>\n",
       "      <td>Отчаянные домохозяйки</td>\n",
       "      <td>драмы, мелодрамы, детективы, комедии</td>\n",
       "      <td>1097559</td>\n",
       "      <td>-39.263773</td>\n",
       "      <td>9</td>\n",
       "    </tr>\n",
       "    <tr>\n",
       "      <th>19</th>\n",
       "      <td>9728</td>\n",
       "      <td>Гнев человеческий</td>\n",
       "      <td>боевики, триллеры</td>\n",
       "      <td>1097559</td>\n",
       "      <td>-39.283574</td>\n",
       "      <td>10</td>\n",
       "    </tr>\n",
       "    <tr>\n",
       "      <th>20</th>\n",
       "      <td>7571</td>\n",
       "      <td>100% волк</td>\n",
       "      <td>мультфильм, приключения, семейное, фэнтези, ко...</td>\n",
       "      <td>1097560</td>\n",
       "      <td>-17.039351</td>\n",
       "      <td>1</td>\n",
       "    </tr>\n",
       "    <tr>\n",
       "      <th>21</th>\n",
       "      <td>4151</td>\n",
       "      <td>Секреты семейной жизни</td>\n",
       "      <td>комедии</td>\n",
       "      <td>1097560</td>\n",
       "      <td>-17.653900</td>\n",
       "      <td>2</td>\n",
       "    </tr>\n",
       "    <tr>\n",
       "      <th>22</th>\n",
       "      <td>3734</td>\n",
       "      <td>Прабабушка легкого поведения</td>\n",
       "      <td>комедии</td>\n",
       "      <td>1097560</td>\n",
       "      <td>-17.656586</td>\n",
       "      <td>3</td>\n",
       "    </tr>\n",
       "    <tr>\n",
       "      <th>23</th>\n",
       "      <td>15297</td>\n",
       "      <td>Клиника счастья</td>\n",
       "      <td>драмы, мелодрамы</td>\n",
       "      <td>1097560</td>\n",
       "      <td>-17.668213</td>\n",
       "      <td>4</td>\n",
       "    </tr>\n",
       "    <tr>\n",
       "      <th>24</th>\n",
       "      <td>10440</td>\n",
       "      <td>Хрустальный</td>\n",
       "      <td>триллеры, детективы</td>\n",
       "      <td>1097560</td>\n",
       "      <td>-17.805435</td>\n",
       "      <td>5</td>\n",
       "    </tr>\n",
       "    <tr>\n",
       "      <th>25</th>\n",
       "      <td>3182</td>\n",
       "      <td>Ральф против Интернета</td>\n",
       "      <td>мультфильм, приключения, фантастика, семейное,...</td>\n",
       "      <td>1097560</td>\n",
       "      <td>-17.855321</td>\n",
       "      <td>6</td>\n",
       "    </tr>\n",
       "    <tr>\n",
       "      <th>26</th>\n",
       "      <td>13865</td>\n",
       "      <td>Девятаев</td>\n",
       "      <td>драмы, военные, приключения</td>\n",
       "      <td>1097560</td>\n",
       "      <td>-17.906652</td>\n",
       "      <td>7</td>\n",
       "    </tr>\n",
       "    <tr>\n",
       "      <th>27</th>\n",
       "      <td>9728</td>\n",
       "      <td>Гнев человеческий</td>\n",
       "      <td>боевики, триллеры</td>\n",
       "      <td>1097560</td>\n",
       "      <td>-17.911744</td>\n",
       "      <td>8</td>\n",
       "    </tr>\n",
       "    <tr>\n",
       "      <th>28</th>\n",
       "      <td>7829</td>\n",
       "      <td>Поступь хаоса</td>\n",
       "      <td>боевики, фантастика, фэнтези, приключения</td>\n",
       "      <td>1097560</td>\n",
       "      <td>-17.913332</td>\n",
       "      <td>9</td>\n",
       "    </tr>\n",
       "    <tr>\n",
       "      <th>29</th>\n",
       "      <td>16166</td>\n",
       "      <td>Зверополис</td>\n",
       "      <td>приключения, мультфильм, детективы, комедии</td>\n",
       "      <td>1097560</td>\n",
       "      <td>-17.959297</td>\n",
       "      <td>10</td>\n",
       "    </tr>\n",
       "  </tbody>\n",
       "</table>\n",
       "</div>"
      ],
      "text/plain": [
       "    item_id                         title  \\\n",
       "0      4151        Секреты семейной жизни   \n",
       "1      7571                     100% волк   \n",
       "2     15297               Клиника счастья   \n",
       "3      4880                         Афера   \n",
       "4      3734  Прабабушка легкого поведения   \n",
       "5     10440                   Хрустальный   \n",
       "6     13865                      Девятаев   \n",
       "7      9728             Гнев человеческий   \n",
       "8      2657                    Подслушано   \n",
       "9     11237                   День города   \n",
       "10    15297               Клиника счастья   \n",
       "11    10440                   Хрустальный   \n",
       "12     4151        Секреты семейной жизни   \n",
       "13     2657                    Подслушано   \n",
       "14    12192                  Фемида видит   \n",
       "15     9996                         Немцы   \n",
       "16     4880                         Афера   \n",
       "17     3734  Прабабушка легкого поведения   \n",
       "18     6192         Отчаянные домохозяйки   \n",
       "19     9728             Гнев человеческий   \n",
       "20     7571                     100% волк   \n",
       "21     4151        Секреты семейной жизни   \n",
       "22     3734  Прабабушка легкого поведения   \n",
       "23    15297               Клиника счастья   \n",
       "24    10440                   Хрустальный   \n",
       "25     3182        Ральф против Интернета   \n",
       "26    13865                      Девятаев   \n",
       "27     9728             Гнев человеческий   \n",
       "28     7829                 Поступь хаоса   \n",
       "29    16166                    Зверополис   \n",
       "\n",
       "                                               genres  user_id      score  \\\n",
       "0                                             комедии  1097558 -22.607544   \n",
       "1   мультфильм, приключения, семейное, фэнтези, ко...  1097558 -22.702321   \n",
       "2                                    драмы, мелодрамы  1097558 -22.708507   \n",
       "3                                             комедии  1097558 -22.783512   \n",
       "4                                             комедии  1097558 -22.832664   \n",
       "5                                 триллеры, детективы  1097558 -22.853980   \n",
       "6                         драмы, военные, приключения  1097558 -23.046195   \n",
       "7                                   боевики, триллеры  1097558 -23.094686   \n",
       "8                                     драмы, триллеры  1097558 -23.305981   \n",
       "9                                             комедии  1097558 -23.325321   \n",
       "10                                   драмы, мелодрамы  1097559 -38.006945   \n",
       "11                                триллеры, детективы  1097559 -38.294396   \n",
       "12                                            комедии  1097559 -38.761770   \n",
       "13                                    драмы, триллеры  1097559 -38.771008   \n",
       "14                          драмы, детективы, комедии  1097559 -39.004690   \n",
       "15                                              драмы  1097559 -39.055617   \n",
       "16                                            комедии  1097559 -39.098498   \n",
       "17                                            комедии  1097559 -39.257599   \n",
       "18               драмы, мелодрамы, детективы, комедии  1097559 -39.263773   \n",
       "19                                  боевики, триллеры  1097559 -39.283574   \n",
       "20  мультфильм, приключения, семейное, фэнтези, ко...  1097560 -17.039351   \n",
       "21                                            комедии  1097560 -17.653900   \n",
       "22                                            комедии  1097560 -17.656586   \n",
       "23                                   драмы, мелодрамы  1097560 -17.668213   \n",
       "24                                триллеры, детективы  1097560 -17.805435   \n",
       "25  мультфильм, приключения, фантастика, семейное,...  1097560 -17.855321   \n",
       "26                        драмы, военные, приключения  1097560 -17.906652   \n",
       "27                                  боевики, триллеры  1097560 -17.911744   \n",
       "28          боевики, фантастика, фэнтези, приключения  1097560 -17.913332   \n",
       "29        приключения, мультфильм, детективы, комедии  1097560 -17.959297   \n",
       "\n",
       "    rank  \n",
       "0      1  \n",
       "1      2  \n",
       "2      3  \n",
       "3      4  \n",
       "4      5  \n",
       "5      6  \n",
       "6      7  \n",
       "7      8  \n",
       "8      9  \n",
       "9     10  \n",
       "10     1  \n",
       "11     2  \n",
       "12     3  \n",
       "13     4  \n",
       "14     5  \n",
       "15     6  \n",
       "16     7  \n",
       "17     8  \n",
       "18     9  \n",
       "19    10  \n",
       "20     1  \n",
       "21     2  \n",
       "22     3  \n",
       "23     4  \n",
       "24     5  \n",
       "25     6  \n",
       "26     7  \n",
       "27     8  \n",
       "28     9  \n",
       "29    10  "
      ]
     },
     "execution_count": 465,
     "metadata": {},
     "output_type": "execute_result"
    }
   ],
   "source": [
    "items[['item_id','title','genres']].merge(new_recos, how = 'right', on = 'item_id')"
   ]
  },
  {
   "cell_type": "markdown",
   "metadata": {},
   "source": [
    "Как видим из результатов, больше всего совпадений по жанрам у 3го аватара:\n",
    "в рекомендациях присутствует 3 мультфильма"
   ]
  },
  {
   "cell_type": "markdown",
   "metadata": {},
   "source": [
    "# Approximate Nearest Neighbors "
   ]
  },
  {
   "cell_type": "code",
   "execution_count": 480,
   "metadata": {},
   "outputs": [],
   "source": [
    "user_embeddings, item_embeddings = best_new_model.get_vectors(new_dataset)"
   ]
  },
  {
   "cell_type": "code",
   "execution_count": 481,
   "metadata": {},
   "outputs": [],
   "source": [
    "def augment_inner_product(factors):\n",
    "    normed_factors = np.linalg.norm(factors, axis=1)\n",
    "    max_norm = normed_factors.max()\n",
    "    \n",
    "    extra_dim = np.sqrt(max_norm ** 2 - normed_factors ** 2).reshape(-1, 1)\n",
    "    augmented_factors = np.append(factors, extra_dim, axis=1)\n",
    "    return max_norm, augmented_factors"
   ]
  },
  {
   "cell_type": "code",
   "execution_count": 482,
   "metadata": {},
   "outputs": [
    {
     "name": "stdout",
     "output_type": "stream",
     "text": [
      "pre shape:  (15706, 102)\n"
     ]
    },
    {
     "data": {
      "text/plain": [
       "(15706, 103)"
      ]
     },
     "execution_count": 482,
     "metadata": {},
     "output_type": "execute_result"
    }
   ],
   "source": [
    "print('pre shape: ', item_embeddings.shape)\n",
    "max_norm, augmented_item_embeddings = augment_inner_product(item_embeddings)\n",
    "augmented_item_embeddings.shape"
   ]
  },
  {
   "cell_type": "code",
   "execution_count": 483,
   "metadata": {},
   "outputs": [
    {
     "data": {
      "text/plain": [
       "(962182, 103)"
      ]
     },
     "execution_count": 483,
     "metadata": {},
     "output_type": "execute_result"
    }
   ],
   "source": [
    "extra_zero = np.zeros((user_embeddings.shape[0], 1))\n",
    "augmented_user_embeddings = np.append(user_embeddings, extra_zero, axis=1)\n",
    "augmented_user_embeddings.shape"
   ]
  },
  {
   "cell_type": "code",
   "execution_count": 484,
   "metadata": {},
   "outputs": [],
   "source": [
    "# параметры для hnsw\n",
    "M = 48\n",
    "efC = 100\n",
    "efS = 100"
   ]
  },
  {
   "cell_type": "code",
   "execution_count": 485,
   "metadata": {},
   "outputs": [
    {
     "name": "stdout",
     "output_type": "stream",
     "text": [
      "CPU times: user 1.49 s, sys: 117 ms, total: 1.6 s\n",
      "Wall time: 286 ms\n"
     ]
    }
   ],
   "source": [
    "%%time\n",
    "max_elements, dim = augmented_item_embeddings.shape\n",
    "hnsw = hnswlib.Index(\"ip\", dim)\n",
    "hnsw.init_index(max_elements, M, efC)\n",
    "hnsw.add_items(augmented_item_embeddings)\n",
    "hnsw.set_ef(efS)"
   ]
  },
  {
   "cell_type": "code",
   "execution_count": 486,
   "metadata": {},
   "outputs": [],
   "source": [
    "def recommend_all(query_factors, index_factors, topn=10):\n",
    "    output = query_factors.dot(index_factors.T)\n",
    "    argpartition_indices = np.argpartition(output, -topn)[:, -topn:]\n",
    "\n",
    "    x_indices = np.repeat(np.arange(output.shape[0]), topn)\n",
    "    y_indices = argpartition_indices.flatten()\n",
    "    top_value = output[x_indices, y_indices].reshape(output.shape[0], topn)\n",
    "    top_indices = np.argsort(top_value)[:, ::-1]\n",
    "\n",
    "    y_indices = top_indices.flatten()\n",
    "    top_indices = argpartition_indices[x_indices, y_indices]\n",
    "    labels = top_indices.reshape(-1, topn)\n",
    "    distances = output[x_indices, top_indices].reshape(-1, topn)\n",
    "    return labels, distances"
   ]
  },
  {
   "cell_type": "code",
   "execution_count": 487,
   "metadata": {},
   "outputs": [
    {
     "data": {
      "text/plain": [
       "(array([[ 32, 235,  16,  10,  84,  25,  51, 596,  18, 202]]),\n",
       " array([[-34.25965878, -34.39183911, -34.43723705, -34.69208954,\n",
       "         -34.89087456, -35.00085291, -35.0108253 , -35.04676144,\n",
       "         -35.10954488, -35.13816857]]))"
      ]
     },
     "execution_count": 487,
     "metadata": {},
     "output_type": "execute_result"
    }
   ],
   "source": [
    "recommend_all(user_embeddings[[0], :], item_embeddings)"
   ]
  },
  {
   "cell_type": "code",
   "execution_count": 488,
   "metadata": {},
   "outputs": [],
   "source": [
    "label, distance = hnsw.knn_query(augmented_user_embeddings[0], k=k)"
   ]
  },
  {
   "cell_type": "code",
   "execution_count": 489,
   "metadata": {},
   "outputs": [
    {
     "data": {
      "text/plain": [
       "(array([[ 32, 235,  16,  10,  84,  25,  51, 596,  18, 202]], dtype=uint64),\n",
       " array([[-34.25965 , -34.39183 , -34.437237, -34.692093, -34.89087 ,\n",
       "         -35.00086 , -35.010822, -35.046757, -35.109547, -35.13818 ]],\n",
       "       dtype=float32))"
      ]
     },
     "execution_count": 489,
     "metadata": {},
     "output_type": "execute_result"
    }
   ],
   "source": [
    "label, 1 - distance"
   ]
  },
  {
   "cell_type": "markdown",
   "metadata": {},
   "source": [
    "### Функция для приближенного поиска рекомендаций"
   ]
  },
  {
   "cell_type": "code",
   "execution_count": 490,
   "metadata": {},
   "outputs": [],
   "source": [
    "def approx_candidates(augmented_user_embeddings, user_ids, hnsw,\n",
    "                      item_id_map, user_id_map, top_k):\n",
    "    internal_user_ids = user_id_map.convert_to_internal(user_ids)\n",
    "    query = augmented_user_embeddings[internal_user_ids]\n",
    "    item_labels, _ = hnsw.knn_query(query, k=top_k)\n",
    "    real_labels = np.array(list(map(item_id_map.convert_to_external,item_labels)))\n",
    "    return (real_labels)"
   ]
  },
  {
   "cell_type": "code",
   "execution_count": 493,
   "metadata": {},
   "outputs": [
    {
     "data": {
      "text/plain": [
       "array([[ 4151,  7571, 15297,  4880,  3734, 10440, 13865,  9728,  2657,\n",
       "        11237],\n",
       "       [15297, 10440,  4151,  2657, 12192,  9996,  4880,  3734,  6192,\n",
       "         9728],\n",
       "       [ 7571,  4151,  3734, 15297, 10440,  3182, 13865,  9728,  7829,\n",
       "        16166]])"
      ]
     },
     "execution_count": 493,
     "metadata": {},
     "output_type": "execute_result"
    }
   ],
   "source": [
    "# поиск рекомендаций для аватаров\n",
    "approx_candidates(augmented_user_embeddings,[1097558,1097559,1097560],hnsw,\n",
    "                  new_dataset.item_id_map,new_dataset.user_id_map,10)"
   ]
  },
  {
   "cell_type": "code",
   "execution_count": 495,
   "metadata": {},
   "outputs": [
    {
     "data": {
      "text/html": [
       "<div>\n",
       "<style scoped>\n",
       "    .dataframe tbody tr th:only-of-type {\n",
       "        vertical-align: middle;\n",
       "    }\n",
       "\n",
       "    .dataframe tbody tr th {\n",
       "        vertical-align: top;\n",
       "    }\n",
       "\n",
       "    .dataframe thead th {\n",
       "        text-align: right;\n",
       "    }\n",
       "</style>\n",
       "<table border=\"1\" class=\"dataframe\">\n",
       "  <thead>\n",
       "    <tr style=\"text-align: right;\">\n",
       "      <th></th>\n",
       "      <th>user_id</th>\n",
       "      <th>item_id</th>\n",
       "      <th>score</th>\n",
       "      <th>rank</th>\n",
       "    </tr>\n",
       "  </thead>\n",
       "  <tbody>\n",
       "    <tr>\n",
       "      <th>0</th>\n",
       "      <td>1097558</td>\n",
       "      <td>4151</td>\n",
       "      <td>-22.607544</td>\n",
       "      <td>1</td>\n",
       "    </tr>\n",
       "    <tr>\n",
       "      <th>1</th>\n",
       "      <td>1097558</td>\n",
       "      <td>7571</td>\n",
       "      <td>-22.702321</td>\n",
       "      <td>2</td>\n",
       "    </tr>\n",
       "    <tr>\n",
       "      <th>2</th>\n",
       "      <td>1097558</td>\n",
       "      <td>15297</td>\n",
       "      <td>-22.708507</td>\n",
       "      <td>3</td>\n",
       "    </tr>\n",
       "    <tr>\n",
       "      <th>3</th>\n",
       "      <td>1097558</td>\n",
       "      <td>4880</td>\n",
       "      <td>-22.783512</td>\n",
       "      <td>4</td>\n",
       "    </tr>\n",
       "    <tr>\n",
       "      <th>4</th>\n",
       "      <td>1097558</td>\n",
       "      <td>3734</td>\n",
       "      <td>-22.832664</td>\n",
       "      <td>5</td>\n",
       "    </tr>\n",
       "    <tr>\n",
       "      <th>5</th>\n",
       "      <td>1097558</td>\n",
       "      <td>10440</td>\n",
       "      <td>-22.853980</td>\n",
       "      <td>6</td>\n",
       "    </tr>\n",
       "    <tr>\n",
       "      <th>6</th>\n",
       "      <td>1097558</td>\n",
       "      <td>13865</td>\n",
       "      <td>-23.046195</td>\n",
       "      <td>7</td>\n",
       "    </tr>\n",
       "    <tr>\n",
       "      <th>7</th>\n",
       "      <td>1097558</td>\n",
       "      <td>9728</td>\n",
       "      <td>-23.094686</td>\n",
       "      <td>8</td>\n",
       "    </tr>\n",
       "    <tr>\n",
       "      <th>8</th>\n",
       "      <td>1097558</td>\n",
       "      <td>2657</td>\n",
       "      <td>-23.305981</td>\n",
       "      <td>9</td>\n",
       "    </tr>\n",
       "    <tr>\n",
       "      <th>9</th>\n",
       "      <td>1097558</td>\n",
       "      <td>11237</td>\n",
       "      <td>-23.325321</td>\n",
       "      <td>10</td>\n",
       "    </tr>\n",
       "    <tr>\n",
       "      <th>10</th>\n",
       "      <td>1097559</td>\n",
       "      <td>15297</td>\n",
       "      <td>-38.006945</td>\n",
       "      <td>1</td>\n",
       "    </tr>\n",
       "    <tr>\n",
       "      <th>11</th>\n",
       "      <td>1097559</td>\n",
       "      <td>10440</td>\n",
       "      <td>-38.294396</td>\n",
       "      <td>2</td>\n",
       "    </tr>\n",
       "    <tr>\n",
       "      <th>12</th>\n",
       "      <td>1097559</td>\n",
       "      <td>4151</td>\n",
       "      <td>-38.761770</td>\n",
       "      <td>3</td>\n",
       "    </tr>\n",
       "    <tr>\n",
       "      <th>13</th>\n",
       "      <td>1097559</td>\n",
       "      <td>2657</td>\n",
       "      <td>-38.771008</td>\n",
       "      <td>4</td>\n",
       "    </tr>\n",
       "    <tr>\n",
       "      <th>14</th>\n",
       "      <td>1097559</td>\n",
       "      <td>12192</td>\n",
       "      <td>-39.004690</td>\n",
       "      <td>5</td>\n",
       "    </tr>\n",
       "    <tr>\n",
       "      <th>15</th>\n",
       "      <td>1097559</td>\n",
       "      <td>9996</td>\n",
       "      <td>-39.055617</td>\n",
       "      <td>6</td>\n",
       "    </tr>\n",
       "    <tr>\n",
       "      <th>16</th>\n",
       "      <td>1097559</td>\n",
       "      <td>4880</td>\n",
       "      <td>-39.098498</td>\n",
       "      <td>7</td>\n",
       "    </tr>\n",
       "    <tr>\n",
       "      <th>17</th>\n",
       "      <td>1097559</td>\n",
       "      <td>3734</td>\n",
       "      <td>-39.257599</td>\n",
       "      <td>8</td>\n",
       "    </tr>\n",
       "    <tr>\n",
       "      <th>18</th>\n",
       "      <td>1097559</td>\n",
       "      <td>6192</td>\n",
       "      <td>-39.263773</td>\n",
       "      <td>9</td>\n",
       "    </tr>\n",
       "    <tr>\n",
       "      <th>19</th>\n",
       "      <td>1097559</td>\n",
       "      <td>9728</td>\n",
       "      <td>-39.283574</td>\n",
       "      <td>10</td>\n",
       "    </tr>\n",
       "    <tr>\n",
       "      <th>20</th>\n",
       "      <td>1097560</td>\n",
       "      <td>7571</td>\n",
       "      <td>-17.039351</td>\n",
       "      <td>1</td>\n",
       "    </tr>\n",
       "    <tr>\n",
       "      <th>21</th>\n",
       "      <td>1097560</td>\n",
       "      <td>4151</td>\n",
       "      <td>-17.653900</td>\n",
       "      <td>2</td>\n",
       "    </tr>\n",
       "    <tr>\n",
       "      <th>22</th>\n",
       "      <td>1097560</td>\n",
       "      <td>3734</td>\n",
       "      <td>-17.656586</td>\n",
       "      <td>3</td>\n",
       "    </tr>\n",
       "    <tr>\n",
       "      <th>23</th>\n",
       "      <td>1097560</td>\n",
       "      <td>15297</td>\n",
       "      <td>-17.668213</td>\n",
       "      <td>4</td>\n",
       "    </tr>\n",
       "    <tr>\n",
       "      <th>24</th>\n",
       "      <td>1097560</td>\n",
       "      <td>10440</td>\n",
       "      <td>-17.805435</td>\n",
       "      <td>5</td>\n",
       "    </tr>\n",
       "    <tr>\n",
       "      <th>25</th>\n",
       "      <td>1097560</td>\n",
       "      <td>3182</td>\n",
       "      <td>-17.855321</td>\n",
       "      <td>6</td>\n",
       "    </tr>\n",
       "    <tr>\n",
       "      <th>26</th>\n",
       "      <td>1097560</td>\n",
       "      <td>13865</td>\n",
       "      <td>-17.906652</td>\n",
       "      <td>7</td>\n",
       "    </tr>\n",
       "    <tr>\n",
       "      <th>27</th>\n",
       "      <td>1097560</td>\n",
       "      <td>9728</td>\n",
       "      <td>-17.911744</td>\n",
       "      <td>8</td>\n",
       "    </tr>\n",
       "    <tr>\n",
       "      <th>28</th>\n",
       "      <td>1097560</td>\n",
       "      <td>7829</td>\n",
       "      <td>-17.913332</td>\n",
       "      <td>9</td>\n",
       "    </tr>\n",
       "    <tr>\n",
       "      <th>29</th>\n",
       "      <td>1097560</td>\n",
       "      <td>16166</td>\n",
       "      <td>-17.959297</td>\n",
       "      <td>10</td>\n",
       "    </tr>\n",
       "  </tbody>\n",
       "</table>\n",
       "</div>"
      ],
      "text/plain": [
       "    user_id  item_id      score  rank\n",
       "0   1097558     4151 -22.607544     1\n",
       "1   1097558     7571 -22.702321     2\n",
       "2   1097558    15297 -22.708507     3\n",
       "3   1097558     4880 -22.783512     4\n",
       "4   1097558     3734 -22.832664     5\n",
       "5   1097558    10440 -22.853980     6\n",
       "6   1097558    13865 -23.046195     7\n",
       "7   1097558     9728 -23.094686     8\n",
       "8   1097558     2657 -23.305981     9\n",
       "9   1097558    11237 -23.325321    10\n",
       "10  1097559    15297 -38.006945     1\n",
       "11  1097559    10440 -38.294396     2\n",
       "12  1097559     4151 -38.761770     3\n",
       "13  1097559     2657 -38.771008     4\n",
       "14  1097559    12192 -39.004690     5\n",
       "15  1097559     9996 -39.055617     6\n",
       "16  1097559     4880 -39.098498     7\n",
       "17  1097559     3734 -39.257599     8\n",
       "18  1097559     6192 -39.263773     9\n",
       "19  1097559     9728 -39.283574    10\n",
       "20  1097560     7571 -17.039351     1\n",
       "21  1097560     4151 -17.653900     2\n",
       "22  1097560     3734 -17.656586     3\n",
       "23  1097560    15297 -17.668213     4\n",
       "24  1097560    10440 -17.805435     5\n",
       "25  1097560     3182 -17.855321     6\n",
       "26  1097560    13865 -17.906652     7\n",
       "27  1097560     9728 -17.911744     8\n",
       "28  1097560     7829 -17.913332     9\n",
       "29  1097560    16166 -17.959297    10"
      ]
     },
     "execution_count": 495,
     "metadata": {},
     "output_type": "execute_result"
    }
   ],
   "source": [
    "best_new_model.recommend(\n",
    "    users=[1097558,1097559,1097560],\n",
    "    dataset=new_dataset,\n",
    "    k=10,\n",
    "    filter_viewed=True,\n",
    ")"
   ]
  },
  {
   "cell_type": "markdown",
   "metadata": {},
   "source": [
    "Видим, что функция приближенного поиска выдает практические такие же рекомендации"
   ]
  },
  {
   "cell_type": "markdown",
   "metadata": {},
   "source": [
    "# Подсчет метрик и класс для прогнозирования"
   ]
  },
  {
   "cell_type": "markdown",
   "metadata": {},
   "source": [
    "## Загрузка данных"
   ]
  },
  {
   "cell_type": "code",
   "execution_count": 538,
   "metadata": {},
   "outputs": [
    {
     "name": "stdout",
     "output_type": "stream",
     "text": [
      "CPU times: user 9.56 s, sys: 1.55 s, total: 11.1 s\n",
      "Wall time: 11.4 s\n"
     ]
    }
   ],
   "source": [
    "%%time\n",
    "# объединими трейн и валидацию, тест выборку оставим без изменений\n",
    "users = pd.read_csv(DATA_PATH / 'users.csv')\n",
    "items = pd.read_csv(DATA_PATH / 'items.csv')\n",
    "interactions = pd.read_csv(DATA_PATH / 'interactions.csv')\n",
    "\n",
    "Columns.Datetime = 'last_watch_dt'\n",
    "interactions.drop(interactions[interactions[Columns.Datetime].str.len() != 10].index, inplace=True)\n",
    "interactions[Columns.Datetime] = pd.to_datetime(interactions[Columns.Datetime], format='%Y-%m-%d')\n",
    "max_date = interactions[Columns.Datetime].max()\n",
    "interactions[Columns.Weight] = np.where(interactions['watched_pct'] > 10, 3, 1)\n",
    "\n",
    "train = interactions[interactions[Columns.Datetime] <= max_date - pd.Timedelta(days=7)].copy()\n",
    "test = interactions[interactions[Columns.Datetime] > max_date - pd.Timedelta(days=7)].copy()\n",
    "\n",
    "train.drop(train.query(\"total_dur < 300\").index, inplace=True)\n",
    "\n",
    "users.fillna('Unknown', inplace=True)\n",
    "users = users.loc[users[Columns.User].isin(train[Columns.User])].copy()\n",
    "\n",
    "user_features_frames = []\n",
    "for feature in [\"sex\", \"age\", \"income\"]:\n",
    "    feature_frame = users.reindex(columns=[Columns.User, feature])\n",
    "    feature_frame.columns = [\"id\", \"value\"]\n",
    "    feature_frame[\"feature\"] = feature\n",
    "    user_features_frames.append(feature_frame)\n",
    "user_features = pd.concat(user_features_frames)\n",
    "user_features.head()\n",
    "\n",
    "\n",
    "items = items.loc[items[Columns.Item].isin(train[Columns.Item])].copy()\n",
    "\n",
    "items[\"genre\"] = items[\"genres\"].str.lower().str.replace(\", \", \",\", regex=False).str.split(\",\")\n",
    "genre_feature = items[[\"item_id\", \"genre\"]].explode(\"genre\")\n",
    "genre_feature.columns = [\"id\", \"value\"]\n",
    "genre_feature[\"feature\"] = \"genre\"\n",
    "\n",
    "content_feature = items.reindex(columns=[Columns.Item, \"content_type\"])\n",
    "content_feature.columns = [\"id\", \"value\"]\n",
    "content_feature[\"feature\"] = \"content_type\"\n",
    "\n",
    "item_features = pd.concat((genre_feature, content_feature))\n",
    "\n",
    "dataset = Dataset.construct(\n",
    "    interactions_df=train,\n",
    "    user_features_df=user_features,\n",
    "    cat_user_features=[\"sex\", \"age\", \"income\"],\n",
    "    item_features_df=item_features,\n",
    "    cat_item_features=[\"genre\", \"content_type\"],\n",
    ")\n",
    "\n",
    "TEST_USERS = test[Columns.User].unique()"
   ]
  },
  {
   "cell_type": "markdown",
   "metadata": {},
   "source": [
    "## Обработка холодных пользователей"
   ]
  },
  {
   "cell_type": "code",
   "execution_count": 539,
   "metadata": {},
   "outputs": [
    {
     "data": {
      "text/plain": [
       "array([10440, 15297, 13865,  9728,  4151,  3734,  2657,  4880,   142,\n",
       "        6809])"
      ]
     },
     "execution_count": 539,
     "metadata": {},
     "output_type": "execute_result"
    }
   ],
   "source": [
    "popular_model = PopularModel()\n",
    "popular_model.fit(dataset)\n",
    "\n",
    "# если id пользователя нет в датасете, то выдаем топ 10 популярных айтемов\n",
    "popular_items = dataset.item_id_map.convert_to_external(\n",
    "                popular_model.popularity_list[0][:10])\n",
    "popular_items"
   ]
  },
  {
   "cell_type": "markdown",
   "metadata": {},
   "source": [
    "## Подсчет метрики"
   ]
  },
  {
   "cell_type": "code",
   "execution_count": 540,
   "metadata": {},
   "outputs": [],
   "source": [
    "best_light_fm_params = {\n",
    "    'loss': 'warp',\n",
    "    'no_components': 100,\n",
    "    'learning_rate': 0.0066594231278431434,\n",
    "    'user_alpha': 0.0005203512950757777,\n",
    "    'item_alpha': 0.0003116105897809789,\n",
    "    'random_state': 42,\n",
    "}"
   ]
  },
  {
   "cell_type": "code",
   "execution_count": 541,
   "metadata": {},
   "outputs": [
    {
     "data": {
      "text/plain": [
       "(10, 16)"
      ]
     },
     "execution_count": 541,
     "metadata": {},
     "output_type": "execute_result"
    }
   ],
   "source": [
    "N_EPOCHS,NUM_THREADS"
   ]
  },
  {
   "cell_type": "code",
   "execution_count": 542,
   "metadata": {},
   "outputs": [],
   "source": [
    "best_model = LightFMWrapperModel(LightFM(**best_light_fm_params),\n",
    "                                        epochs=N_EPOCHS, num_threads=NUM_THREADS)"
   ]
  },
  {
   "cell_type": "code",
   "execution_count": 543,
   "metadata": {},
   "outputs": [
    {
     "data": {
      "text/plain": [
       "<rectools.models.lightfm.LightFMWrapperModel at 0x7f914849cf10>"
      ]
     },
     "execution_count": 543,
     "metadata": {},
     "output_type": "execute_result"
    }
   ],
   "source": [
    "best_model.fit(dataset)"
   ]
  },
  {
   "cell_type": "code",
   "execution_count": 597,
   "metadata": {},
   "outputs": [
    {
     "data": {
      "text/plain": [
       "{'MAP@10': MAP(k=10, divide_by_k=False)}"
      ]
     },
     "execution_count": 597,
     "metadata": {},
     "output_type": "execute_result"
    }
   ],
   "source": [
    "metrics"
   ]
  },
  {
   "cell_type": "code",
   "execution_count": 601,
   "metadata": {},
   "outputs": [],
   "source": [
    "COLD_TEST_USERS = np.array(list(set(TEST_USERS) - set(train['user_id'])))\n",
    "HOT_TEST_USERS = np.array(list(set(TEST_USERS) & set(train['user_id'])))"
   ]
  },
  {
   "cell_type": "code",
   "execution_count": 602,
   "metadata": {},
   "outputs": [
    {
     "data": {
      "text/plain": [
       "167348"
      ]
     },
     "execution_count": 602,
     "metadata": {},
     "output_type": "execute_result"
    }
   ],
   "source": [
    "COLD_USERS.shape[0] + HOT_USERS.shape[0]"
   ]
  },
  {
   "cell_type": "code",
   "execution_count": 603,
   "metadata": {},
   "outputs": [
    {
     "data": {
      "text/plain": [
       "167348"
      ]
     },
     "execution_count": 603,
     "metadata": {},
     "output_type": "execute_result"
    }
   ],
   "source": [
    "test['user_id'].unique().shape[0]"
   ]
  },
  {
   "cell_type": "code",
   "execution_count": 604,
   "metadata": {},
   "outputs": [],
   "source": [
    "recos_hot = best_model.recommend(\n",
    "    users=HOT_TEST_USERS,\n",
    "    dataset=dataset,\n",
    "    k=K_RECOS,\n",
    "    filter_viewed=True,\n",
    ")"
   ]
  },
  {
   "cell_type": "code",
   "execution_count": 605,
   "metadata": {},
   "outputs": [],
   "source": [
    "recos_cold_data = {\"user_id\":[user for user in COLD_TEST_USERS.tolist()\\\n",
    "                              for i in range(10)],\n",
    "                   \"item_id\":popular_items.tolist()*COLD_TEST_USERS.shape[0],\n",
    "                   \"score\":[-i for i in range(1,11)]*COLD_TEST_USERS.shape[0],\n",
    "                   \"rank\":[i for i in range(1,11)]*COLD_TEST_USERS.shape[0],}\n",
    "recos_cold = pd.DataFrame(recos_cold_data)"
   ]
  },
  {
   "cell_type": "code",
   "execution_count": 606,
   "metadata": {},
   "outputs": [],
   "source": [
    "recos = pd.concat([recos_hot,recos_cold])"
   ]
  },
  {
   "cell_type": "code",
   "execution_count": 607,
   "metadata": {},
   "outputs": [
    {
     "data": {
      "text/plain": [
       "{'MAP@10': 0.11309423787834331}"
      ]
     },
     "execution_count": 607,
     "metadata": {},
     "output_type": "execute_result"
    }
   ],
   "source": [
    "metric_values = calc_metrics(metrics, recos, test)\n",
    "metric_values"
   ]
  },
  {
   "cell_type": "markdown",
   "metadata": {},
   "source": [
    "## Инференс"
   ]
  },
  {
   "cell_type": "markdown",
   "metadata": {},
   "source": [
    "### Обучение на всех данных"
   ]
  },
  {
   "cell_type": "code",
   "execution_count": 612,
   "metadata": {},
   "outputs": [
    {
     "name": "stdout",
     "output_type": "stream",
     "text": [
      "CPU times: user 9.51 s, sys: 1.61 s, total: 11.1 s\n",
      "Wall time: 11.4 s\n"
     ]
    }
   ],
   "source": [
    "%%time\n",
    "users = pd.read_csv(DATA_PATH / 'users.csv')\n",
    "items = pd.read_csv(DATA_PATH / 'items.csv')\n",
    "interactions = pd.read_csv(DATA_PATH / 'interactions.csv')\n",
    "\n",
    "Columns.Datetime = 'last_watch_dt'\n",
    "interactions.drop(interactions[interactions[Columns.Datetime].str.len() != 10].index, inplace=True)\n",
    "interactions[Columns.Datetime] = pd.to_datetime(interactions[Columns.Datetime], format='%Y-%m-%d')\n",
    "max_date = interactions[Columns.Datetime].max()\n",
    "interactions[Columns.Weight] = np.where(interactions['watched_pct'] > 10, 3, 1)\n",
    "\n",
    "train = interactions.copy()\n",
    "\n",
    "train.drop(train.query(\"total_dur < 300\").index, inplace=True)\n",
    "\n",
    "users.fillna('Unknown', inplace=True)\n",
    "users = users.loc[users[Columns.User].isin(train[Columns.User])].copy()\n",
    "\n",
    "user_features_frames = []\n",
    "for feature in [\"sex\", \"age\", \"income\"]:\n",
    "    feature_frame = users.reindex(columns=[Columns.User, feature])\n",
    "    feature_frame.columns = [\"id\", \"value\"]\n",
    "    feature_frame[\"feature\"] = feature\n",
    "    user_features_frames.append(feature_frame)\n",
    "user_features = pd.concat(user_features_frames)\n",
    "user_features.head()\n",
    "\n",
    "\n",
    "items = items.loc[items[Columns.Item].isin(train[Columns.Item])].copy()\n",
    "\n",
    "items[\"genre\"] = items[\"genres\"].str.lower().str.replace(\", \", \",\", regex=False).str.split(\",\")\n",
    "genre_feature = items[[\"item_id\", \"genre\"]].explode(\"genre\")\n",
    "genre_feature.columns = [\"id\", \"value\"]\n",
    "genre_feature[\"feature\"] = \"genre\"\n",
    "\n",
    "content_feature = items.reindex(columns=[Columns.Item, \"content_type\"])\n",
    "content_feature.columns = [\"id\", \"value\"]\n",
    "content_feature[\"feature\"] = \"content_type\"\n",
    "\n",
    "item_features = pd.concat((genre_feature, content_feature))\n",
    "\n",
    "dataset = Dataset.construct(\n",
    "    interactions_df=train,\n",
    "    user_features_df=user_features,\n",
    "    cat_user_features=[\"sex\", \"age\", \"income\"],\n",
    "    item_features_df=item_features,\n",
    "    cat_item_features=[\"genre\", \"content_type\"],\n",
    ")"
   ]
  },
  {
   "cell_type": "code",
   "execution_count": 613,
   "metadata": {},
   "outputs": [
    {
     "data": {
      "text/plain": [
       "<rectools.models.lightfm.LightFMWrapperModel at 0x7f91483610a0>"
      ]
     },
     "execution_count": 613,
     "metadata": {},
     "output_type": "execute_result"
    }
   ],
   "source": [
    "best_model = LightFMWrapperModel(LightFM(**best_light_fm_params),\n",
    "                                        epochs=N_EPOCHS, num_threads=NUM_THREADS)\n",
    "best_model.fit(dataset)"
   ]
  },
  {
   "cell_type": "code",
   "execution_count": 614,
   "metadata": {},
   "outputs": [
    {
     "data": {
      "text/plain": [
       "array([10440, 15297, 13865,  9728,  4151,  3734,  2657,  4880,   142,\n",
       "        6809])"
      ]
     },
     "execution_count": 614,
     "metadata": {},
     "output_type": "execute_result"
    }
   ],
   "source": [
    "#популярные айтемы для холодных пользователей\n",
    "popular_model = PopularModel()\n",
    "popular_model.fit(dataset)\n",
    "popular_items = dataset.item_id_map.convert_to_external(\n",
    "                popular_model.popularity_list[0][:10])\n",
    "popular_items"
   ]
  },
  {
   "cell_type": "code",
   "execution_count": 669,
   "metadata": {},
   "outputs": [],
   "source": [
    "from joblib import dump\n",
    "from joblib import load"
   ]
  },
  {
   "cell_type": "code",
   "execution_count": 670,
   "metadata": {},
   "outputs": [
    {
     "data": {
      "text/plain": [
       "['models/dataset.joblib']"
      ]
     },
     "execution_count": 670,
     "metadata": {},
     "output_type": "execute_result"
    }
   ],
   "source": [
    "# сохранение моделей\n",
    "dump(best_model,\"models/main_model.joblib\")\n",
    "dump(popular_model,\"models/popular_model.joblib\")\n",
    "dump(dataset,\"models/dataset.joblib\")"
   ]
  },
  {
   "cell_type": "markdown",
   "metadata": {},
   "source": [
    "### Для бота"
   ]
  },
  {
   "cell_type": "code",
   "execution_count": 671,
   "metadata": {},
   "outputs": [],
   "source": [
    "class FmModel:\n",
    "    def __init__(self, model, popular_model, dataset):\n",
    "        self.model = model\n",
    "        self.popular_model = popular_model\n",
    "        self.dataset = dataset\n",
    "        self.item_id_map = dataset.item_id_map\n",
    "        self.user_id_map = dataset.user_id_map\n",
    "        self.popular_items = dataset.item_id_map.convert_to_external(popular_model\n",
    "                                                                     .popularity_list[0][:10])\n",
    "         \n",
    "        user_embeddings, item_embeddings = self.model.get_vectors(dataset)\n",
    "        max_norm, augmented_item_embeddings = self.augment_inner_product(item_embeddings)\n",
    "        extra_zero = np.zeros((user_embeddings.shape[0], 1))\n",
    "        augmented_user_embeddings = np.append(user_embeddings, extra_zero, axis=1)\n",
    "        \n",
    "        M = 48\n",
    "        efC = 100\n",
    "        efS = 100\n",
    "        \n",
    "        max_elements, dim = augmented_item_embeddings.shape\n",
    "        hnsw = hnswlib.Index(\"ip\", dim)\n",
    "        hnsw.init_index(max_elements, M, efC)\n",
    "        hnsw.add_items(augmented_item_embeddings)\n",
    "        hnsw.set_ef(efS)\n",
    "        \n",
    "        self.augmented_item_embeddings = augmented_item_embeddings\n",
    "        self.augmented_user_embeddings = augmented_user_embeddings\n",
    "        self.hnsw = hnsw\n",
    "        \n",
    "    def __call__(self, user_id):\n",
    "        rec_items = self.get_top_10(user_id)\n",
    "        return rec_items\n",
    "    \n",
    "    def get_top_10(self, user_id):\n",
    "        try:\n",
    "            recos = self.approx_candidates(user_id,top_k = 10)\n",
    "            return recos\n",
    "        \n",
    "        except KeyError:\n",
    "            return self.popular_items\n",
    "                      \n",
    "    def approx_candidates(self, user_ids, top_k = 10):       \n",
    "        internal_user_ids = self.user_id_map.convert_to_internal([user_ids])\n",
    "        query = self.augmented_user_embeddings[internal_user_ids]\n",
    "        item_labels, _ = self.hnsw.knn_query(query, k=top_k)\n",
    "        real_labels = np.array(list(map(self.item_id_map.convert_to_external,item_labels)))\n",
    "        if real_labels.shape[0] == 1:\n",
    "            real_labels = real_labels[0]\n",
    "        return real_labels\n",
    "    \n",
    "    def augment_inner_product(self, factors):\n",
    "        normed_factors = np.linalg.norm(factors, axis=1)\n",
    "        max_norm = normed_factors.max()\n",
    "\n",
    "        extra_dim = np.sqrt(max_norm ** 2 - normed_factors ** 2).reshape(-1, 1)\n",
    "        augmented_factors = np.append(factors, extra_dim, axis=1)\n",
    "        return max_norm, augmented_factors"
   ]
  },
  {
   "cell_type": "code",
   "execution_count": 672,
   "metadata": {},
   "outputs": [],
   "source": [
    "best_model = load(\"models/main_model.joblib\")\n",
    "popular_model = load(\"models/popular_model.joblib\")\n",
    "dataset = load(\"models/dataset.joblib\")"
   ]
  },
  {
   "cell_type": "code",
   "execution_count": 673,
   "metadata": {},
   "outputs": [],
   "source": [
    "test_model = FmModel(best_model,popular_model,dataset)"
   ]
  },
  {
   "cell_type": "code",
   "execution_count": 674,
   "metadata": {},
   "outputs": [
    {
     "data": {
      "text/plain": [
       "array([ 9728, 10440, 13865, 15297,   142,  3734,  7829,  7102,  7793,\n",
       "        2657])"
      ]
     },
     "execution_count": 674,
     "metadata": {},
     "output_type": "execute_result"
    }
   ],
   "source": [
    "test_model(1232)"
   ]
  },
  {
   "cell_type": "code",
   "execution_count": 675,
   "metadata": {},
   "outputs": [
    {
     "data": {
      "text/plain": [
       "(array([10440, 15297, 13865,  9728,  4151,  3734,  2657,  4880,   142,\n",
       "         6809]),\n",
       " array([10440, 15297, 13865,  9728,  4151,  3734,  2657,  4880,   142,\n",
       "         6809]))"
      ]
     },
     "execution_count": 675,
     "metadata": {},
     "output_type": "execute_result"
    }
   ],
   "source": [
    "#холодный пользователь\n",
    "test_model(1232123123),test_model(999999999)"
   ]
  }
 ],
 "metadata": {
  "kernelspec": {
   "display_name": "Python 3 (ipykernel)",
   "language": "python",
   "name": "python3"
  },
  "language_info": {
   "codemirror_mode": {
    "name": "ipython",
    "version": 3
   },
   "file_extension": ".py",
   "mimetype": "text/x-python",
   "name": "python",
   "nbconvert_exporter": "python",
   "pygments_lexer": "ipython3",
   "version": "3.9.7"
  }
 },
 "nbformat": 4,
 "nbformat_minor": 4
}
